{
  "cells": [
    {
      "cell_type": "markdown",
      "metadata": {
        "id": "view-in-github",
        "colab_type": "text"
      },
      "source": [
        "<a href=\"https://colab.research.google.com/github/amara929/amara929/blob/main/Vivian_Ingaitsa_CNN_Keras.ipynb\" target=\"_parent\"><img src=\"https://colab.research.google.com/assets/colab-badge.svg\" alt=\"Open In Colab\"/></a>"
      ]
    },
    {
      "cell_type": "markdown",
      "metadata": {
        "id": "mtJ7RJoOiNT4"
      },
      "source": [
        "# Introduction to CNN Keras - Acc 0.997 (top 8%)"
      ]
    },
    {
      "cell_type": "markdown",
      "metadata": {
        "id": "5tkEnSFtiRT_"
      },
      "source": [
        "# 1. Introduction"
      ]
    },
    {
      "cell_type": "markdown",
      "metadata": {
        "id": "7RDkwTA1ibYi"
      },
      "source": [
        "This is a 5 layers Sequential Convolutional Neural Network for digits recognition trained on MNIST dataset. I choosed to build it with keras API (Tensorflow backend) which is very intuitive. Firstly, I will prepare the data (handwritten digits images) then i will focus on the CNN modeling and evaluation.\n",
        "\n",
        "I achieved 99.671% of accuracy with this CNN trained in 2h30 on a single CPU (i5 2500k). For those who have a >= 3.0 GPU capabilites (from GTX 650 - to recent GPUs), you can use tensorflow-gpu with keras. Computation will be much much faster !!!\n",
        "\n",
        "For computational reasons, i set the number of steps (epochs) to 2, if you want to achieve 99+% of accuracy set it to 30.\n",
        "\n",
        "This Notebook follows three main parts:\n",
        "\n",
        "The data preparation\n",
        "The CNN modeling and evaluation\n",
        "The results prediction and submission"
      ]
    },
    {
      "cell_type": "code",
      "execution_count": null,
      "metadata": {
        "id": "V2nwH9lOiiSZ"
      },
      "outputs": [],
      "source": [
        "import pandas as pd\n",
        "import numpy as np\n",
        "import matplotlib.pyplot as plt\n",
        "import matplotlib.image as mpimg\n",
        "import seaborn as sns\n",
        "%matplotlib inline\n",
        "\n",
        "np.random.seed(2)\n",
        "\n",
        "from sklearn.model_selection import train_test_split\n",
        "from sklearn.metrics import confusion_matrix\n",
        "import itertools\n",
        "\n",
        "from tensorflow.keras.utils import to_categorical\n",
        "from keras.models import Sequential\n",
        "from keras.layers import Dense, Dropout, Flatten, Conv2D, MaxPool2D\n",
        "from keras.optimizers import RMSprop\n",
        "from tensorflow.keras.preprocessing.image import ImageDataGenerator\n",
        "from keras.callbacks import ReduceLROnPlateau\n",
        "from tensorflow.keras.preprocessing.image import ImageDataGenerator\n",
        "\n",
        "\n",
        "sns.set(style='white', context='notebook', palette='deep')"
      ]
    },
    {
      "cell_type": "markdown",
      "metadata": {
        "id": "ogVhXOuSkIYq"
      },
      "source": [
        "Using TensorFlow backend."
      ]
    },
    {
      "cell_type": "markdown",
      "metadata": {
        "id": "qTy2I9vZkKew"
      },
      "source": [
        "# 2. Data preparation"
      ]
    },
    {
      "cell_type": "markdown",
      "metadata": {
        "id": "2__pnzPckN-l"
      },
      "source": [
        "# 2.1 Load data"
      ]
    },
    {
      "cell_type": "code",
      "execution_count": null,
      "metadata": {
        "id": "MRk4_Ze_kTJa"
      },
      "outputs": [],
      "source": [
        "# Load the data\n",
        "train = pd.read_csv(\"/content/train.csv\")\n",
        "test = pd.read_csv(\"/content/test.csv\")"
      ]
    },
    {
      "cell_type": "markdown",
      "metadata": {
        "id": "AuTPwzZcobRq"
      },
      "source": [
        "This code loads training and testing datasets into pandas DataFrames:\n",
        "\n",
        "# Load the data\n",
        "train = pd.read_csv(\"/content/train.csv\")\n",
        "test = pd.read_csv(\"/content/test.csv\")\n",
        "\n",
        "Explanation:\n",
        "\n",
        "pd.read_csv(...): This function from the pandas library reads a CSV (Comma-Separated Values) file and loads it into a DataFrame (a 2D tabular data structure with rows and columns).\n",
        "\n",
        "\"/content/train.csv\" and \"/content/test.csv\": These are file paths to the CSV files. This suggests you're likely working in Google Colab, where files are typically accessed via /content/.\n",
        "\n",
        "train: A DataFrame containing your training data, which includes input features and target labels for training the model.\n",
        "\n",
        "test: A DataFrame with your testing data, which likely includes only input features (no labels) and is used for model predictions."
      ]
    },
    {
      "cell_type": "code",
      "execution_count": null,
      "metadata": {
        "colab": {
          "background_save": true,
          "base_uri": "https://localhost:8080/",
          "height": 429
        },
        "id": "VU9Ih2-ym0e4",
        "outputId": "28c5d744-8d48-42bc-b6ec-e7a8eca30a65"
      },
      "outputs": [
        {
          "data": {
            "text/html": [
              "<div>\n",
              "<style scoped>\n",
              "    .dataframe tbody tr th:only-of-type {\n",
              "        vertical-align: middle;\n",
              "    }\n",
              "\n",
              "    .dataframe tbody tr th {\n",
              "        vertical-align: top;\n",
              "    }\n",
              "\n",
              "    .dataframe thead th {\n",
              "        text-align: right;\n",
              "    }\n",
              "</style>\n",
              "<table border=\"1\" class=\"dataframe\">\n",
              "  <thead>\n",
              "    <tr style=\"text-align: right;\">\n",
              "      <th></th>\n",
              "      <th>count</th>\n",
              "    </tr>\n",
              "    <tr>\n",
              "      <th>label</th>\n",
              "      <th></th>\n",
              "    </tr>\n",
              "  </thead>\n",
              "  <tbody>\n",
              "    <tr>\n",
              "      <th>1</th>\n",
              "      <td>4684</td>\n",
              "    </tr>\n",
              "    <tr>\n",
              "      <th>7</th>\n",
              "      <td>4401</td>\n",
              "    </tr>\n",
              "    <tr>\n",
              "      <th>3</th>\n",
              "      <td>4351</td>\n",
              "    </tr>\n",
              "    <tr>\n",
              "      <th>9</th>\n",
              "      <td>4188</td>\n",
              "    </tr>\n",
              "    <tr>\n",
              "      <th>2</th>\n",
              "      <td>4177</td>\n",
              "    </tr>\n",
              "    <tr>\n",
              "      <th>6</th>\n",
              "      <td>4137</td>\n",
              "    </tr>\n",
              "    <tr>\n",
              "      <th>0</th>\n",
              "      <td>4132</td>\n",
              "    </tr>\n",
              "    <tr>\n",
              "      <th>4</th>\n",
              "      <td>4072</td>\n",
              "    </tr>\n",
              "    <tr>\n",
              "      <th>8</th>\n",
              "      <td>4063</td>\n",
              "    </tr>\n",
              "    <tr>\n",
              "      <th>5</th>\n",
              "      <td>3795</td>\n",
              "    </tr>\n",
              "  </tbody>\n",
              "</table>\n",
              "</div><br><label><b>dtype:</b> int64</label>"
            ],
            "text/plain": [
              "label\n",
              "1    4684\n",
              "7    4401\n",
              "3    4351\n",
              "9    4188\n",
              "2    4177\n",
              "6    4137\n",
              "0    4132\n",
              "4    4072\n",
              "8    4063\n",
              "5    3795\n",
              "Name: count, dtype: int64"
            ]
          },
          "execution_count": 17,
          "metadata": {},
          "output_type": "execute_result"
        },
        {
          "data": {
            "image/png": "[encoded data removed]",
            "text/plain": [
              "<Figure size 640x480 with 1 Axes>"
            ]
          },
          "metadata": {},
          "output_type": "display_data"
        }
      ],
      "source": [
        "Y_train = train[\"label\"]\n",
        "\n",
        "# Drop 'label' column\n",
        "X_train = train.drop(labels = [\"label\"],axis = 1)\n",
        "\n",
        "# free some space\n",
        "del train\n",
        "\n",
        "g = sns.countplot(Y_train)\n",
        "\n",
        "Y_train.value_counts()"
      ]
    },
    {
      "cell_type": "markdown",
      "metadata": {
        "id": "Vgc2hPK8ot7y"
      },
      "source": [
        "Here's a breakdown of what each line of the code is doing:\n",
        "\n",
        "Y_train = train[\"label\"]\n",
        "\n",
        "This line extracts the label column from the train DataFrame and assigns it to the variable Y_train.\n",
        "\n",
        "Y_train now contains the target variable (usually the output you want to predict).\n",
        "\n",
        "\n",
        "X_train = train.drop(labels = [\"label\"], axis = 1)\n",
        "\n",
        "This line drops the label column from train and assigns the result to X_train.\n",
        "\n",
        "X_train contains all the input features (independent variables) without the target column.\n",
        "\n",
        "\n",
        "del train\n",
        "\n",
        "This deletes the original train DataFrame from memory to free up space, which is helpful if you're working with large datasets.\n",
        "\n",
        "\n",
        "g = sns.countplot(Y_train)\n",
        "\n",
        "This uses Seaborn (sns) to create a count plot of Y_train, showing the number of instances for each label class.\n",
        "\n",
        "Helps visualize if the dataset is balanced or imbalanced.\n",
        "\n",
        "\n",
        "Y_train.value_counts()\n",
        "\n",
        "This line shows the count of each unique value in the Y_train series, which helps to verify class distribution numerically.\n",
        "\n",
        "\n",
        "Let me know if you want a visual example or how this fits into a specific ML pipeline."
      ]
    },
    {
      "cell_type": "markdown",
      "metadata": {
        "id": "I52-ByNQm5Xz"
      },
      "source": [
        "We have similar counts for the 10 digits."
      ]
    },
    {
      "cell_type": "markdown",
      "metadata": {
        "id": "FSITSj5Um74-"
      },
      "source": [
        "# 2.2 Check for null and missing values"
      ]
    },
    {
      "cell_type": "code",
      "execution_count": null,
      "metadata": {
        "colab": {
          "base_uri": "https://localhost:8080/",
          "height": 209
        },
        "id": "3Uxg0CidnDC7",
        "outputId": "6b713869-5e61-48d0-83e4-00e195d43090"
      },
      "outputs": [
        {
          "output_type": "execute_result",
          "data": {
            "text/plain": [
              "count       784\n",
              "unique        1\n",
              "top       False\n",
              "freq        784\n",
              "dtype: object"
            ],
            "text/html": [
              "<div>\n",
              "<style scoped>\n",
              "    .dataframe tbody tr th:only-of-type {\n",
              "        vertical-align: middle;\n",
              "    }\n",
              "\n",
              "    .dataframe tbody tr th {\n",
              "        vertical-align: top;\n",
              "    }\n",
              "\n",
              "    .dataframe thead th {\n",
              "        text-align: right;\n",
              "    }\n",
              "</style>\n",
              "<table border=\"1\" class=\"dataframe\">\n",
              "  <thead>\n",
              "    <tr style=\"text-align: right;\">\n",
              "      <th></th>\n",
              "      <th>0</th>\n",
              "    </tr>\n",
              "  </thead>\n",
              "  <tbody>\n",
              "    <tr>\n",
              "      <th>count</th>\n",
              "      <td>784</td>\n",
              "    </tr>\n",
              "    <tr>\n",
              "      <th>unique</th>\n",
              "      <td>1</td>\n",
              "    </tr>\n",
              "    <tr>\n",
              "      <th>top</th>\n",
              "      <td>False</td>\n",
              "    </tr>\n",
              "    <tr>\n",
              "      <th>freq</th>\n",
              "      <td>784</td>\n",
              "    </tr>\n",
              "  </tbody>\n",
              "</table>\n",
              "</div><br><label><b>dtype:</b> object</label>"
            ]
          },
          "metadata": {},
          "execution_count": 18
        }
      ],
      "source": [
        "# Check the data\n",
        "X_train.isnull().any().describe()"
      ]
    },
    {
      "cell_type": "markdown",
      "metadata": {
        "id": "V-Wlw8K2vVLH"
      },
      "source": [
        "The line of code:\n",
        "\n",
        "X_train.isnull().any().describe()\n",
        "\n",
        "does the following step by step:\n",
        "\n",
        "\n",
        "---\n",
        "\n",
        "1. X_train.isnull()\n",
        "\n",
        "Checks for missing (null) values in the DataFrame X_train.\n",
        "\n",
        "Returns a DataFrame of the same shape with True for missing values and False otherwise.\n",
        "\n",
        "\n",
        "\n",
        "---\n",
        "\n",
        "2. .any()\n",
        "\n",
        "This is applied column-wise by default.\n",
        "\n",
        "It returns a Series indicating whether each column contains any True (i.e., at least one missing value).\n",
        "\n",
        "\n",
        "So at this point, you get a Series like:\n",
        "\n",
        "feature1    False\n",
        "feature2     True\n",
        "...\n",
        "dtype: bool\n",
        "\n",
        "\n",
        "---\n",
        "\n",
        "3. .describe()\n",
        "\n",
        "Called on the boolean Series from the .any() step.\n",
        "\n",
        "It returns summary statistics of the Series — things like count, unique, top, and freq if it's categorical (which boolean is treated as in Pandas).\n",
        "\n",
        "\n",
        "Sample output might be:\n",
        "\n",
        "count     20\n",
        "unique     2\n",
        "top     False\n",
        "freq      18\n",
        "dtype: object\n",
        "\n",
        "\n",
        "---\n",
        "\n",
        "Summary:\n",
        "\n",
        "This one-liner checks whether any columns in X_train have missing values and gives you a descriptive summary of how many columns do or don’t have them."
      ]
    },
    {
      "cell_type": "code",
      "execution_count": null,
      "metadata": {
        "colab": {
          "base_uri": "https://localhost:8080/",
          "height": 209
        },
        "id": "NENvSGjIZSSZ",
        "outputId": "1f1846e3-deef-4a15-f0e2-6e25c3258b28"
      },
      "outputs": [
        {
          "output_type": "execute_result",
          "data": {
            "text/plain": [
              "count       784\n",
              "unique        1\n",
              "top       False\n",
              "freq        784\n",
              "dtype: object"
            ],
            "text/html": [
              "<div>\n",
              "<style scoped>\n",
              "    .dataframe tbody tr th:only-of-type {\n",
              "        vertical-align: middle;\n",
              "    }\n",
              "\n",
              "    .dataframe tbody tr th {\n",
              "        vertical-align: top;\n",
              "    }\n",
              "\n",
              "    .dataframe thead th {\n",
              "        text-align: right;\n",
              "    }\n",
              "</style>\n",
              "<table border=\"1\" class=\"dataframe\">\n",
              "  <thead>\n",
              "    <tr style=\"text-align: right;\">\n",
              "      <th></th>\n",
              "      <th>0</th>\n",
              "    </tr>\n",
              "  </thead>\n",
              "  <tbody>\n",
              "    <tr>\n",
              "      <th>count</th>\n",
              "      <td>784</td>\n",
              "    </tr>\n",
              "    <tr>\n",
              "      <th>unique</th>\n",
              "      <td>1</td>\n",
              "    </tr>\n",
              "    <tr>\n",
              "      <th>top</th>\n",
              "      <td>False</td>\n",
              "    </tr>\n",
              "    <tr>\n",
              "      <th>freq</th>\n",
              "      <td>784</td>\n",
              "    </tr>\n",
              "  </tbody>\n",
              "</table>\n",
              "</div><br><label><b>dtype:</b> object</label>"
            ]
          },
          "metadata": {},
          "execution_count": 19
        }
      ],
      "source": [
        "test.isnull().any().describe()"
      ]
    },
    {
      "cell_type": "markdown",
      "metadata": {
        "id": "nlTjDezHyi3u"
      },
      "source": [
        "The code test.isnull().any().describe() is used in a pandas DataFrame (test) to understand the presence and distribution of missing values (nulls) across its columns. First, test.isnull() returns a DataFrame of the same shape as test, with True where values are NaN (null) and False elsewhere. Then, .any() is called along the default axis (columns), producing a Series indicating which columns contain at least one null value. Finally, .describe() provides summary statistics of this boolean Series, such as the count of columns checked, number of True/False values (freq), and the proportion (top, unique, etc.), helping to quickly understand how widespread nulls are across the dataset."
      ]
    },
    {
      "cell_type": "markdown",
      "metadata": {
        "id": "JpII6_fLZVGK"
      },
      "source": [
        "I check for corrupted images (missing values inside).\n",
        "\n",
        "There is no missing values in the train and test dataset. So we can safely go ahead."
      ]
    },
    {
      "cell_type": "markdown",
      "metadata": {
        "id": "NHU2Lq3pZWxM"
      },
      "source": [
        "# 2.3 Normalization"
      ]
    },
    {
      "cell_type": "markdown",
      "metadata": {
        "id": "rlvrv-etZa9i"
      },
      "source": [
        "We perform a grayscale normalization to reduce the effect of illumination's differences.\n",
        "\n",
        "Moreover the CNN converg faster on [0..1] data than on [0..255]."
      ]
    },
    {
      "cell_type": "code",
      "execution_count": null,
      "metadata": {
        "id": "YqMSbBmSZfb8"
      },
      "outputs": [],
      "source": [
        "# Normalize the data\n",
        "X_train = X_train / 255.0\n",
        "test = test / 255.0"
      ]
    },
    {
      "cell_type": "markdown",
      "metadata": {
        "id": "ZG7i8aZpzH6N"
      },
      "source": [
        "The code X_train = X_train / 255.0 and test = test / 255.0 is used to normalize the pixel values of image data in the training (X_train) and test (test) datasets. In many image datasets, pixel values range from 0 to 255, where 0 represents black and 255 represents white (or the maximum intensity for a color channel). By dividing each pixel value by 255.0, the data is scaled to a range between 0 and 1. This normalization helps improve the performance and convergence speed of machine learning models, especially neural networks, by ensuring that the input values are within a consistent and manageable range."
      ]
    },
    {
      "cell_type": "markdown",
      "metadata": {
        "id": "By1ZjvebZkXs"
      },
      "source": [
        "# 2.3 Reshape"
      ]
    },
    {
      "cell_type": "code",
      "execution_count": null,
      "metadata": {
        "id": "-PfyTsbhZmWz"
      },
      "outputs": [],
      "source": [
        "# Reshape image in 3 dimensions (height = 28px, width = 28px , canal = 1)\n",
        "X_train = X_train.values.reshape(-1,28,28,1)\n",
        "test = test.values.reshape(-1,28,28,1)"
      ]
    },
    {
      "cell_type": "markdown",
      "metadata": {
        "id": "W4217Yk-Zuck"
      },
      "source": [
        "Train and test images (28px x 28px) has been stock into pandas.Dataframe as 1D vectors of 784 values. We reshape all data to 28x28x1 3D matrices.\n",
        "\n",
        "Keras requires an extra dimension in the end which correspond to channels. MNIST images are gray scaled so it use only one channel. For RGB images, there is 3 channels, we would have reshaped 784px vectors to 28x28x3 3D matrices."
      ]
    },
    {
      "cell_type": "markdown",
      "metadata": {
        "id": "PWkiYbAQZx0K"
      },
      "source": [
        "# 2.5 Label encoding"
      ]
    },
    {
      "cell_type": "code",
      "execution_count": null,
      "metadata": {
        "id": "2lGhaFkBb8U5"
      },
      "outputs": [],
      "source": [
        "# Encode labels to one hot vectors (ex : 2 -> [0,0,1,0,0,0,0,0,0,0])\n",
        "Y_train = to_categorical(Y_train, num_classes = 10)"
      ]
    },
    {
      "cell_type": "markdown",
      "metadata": {
        "id": "QhQWeHBy0kMT"
      },
      "source": [
        "\n",
        "Y_train = to_categorical(Y_train, num_classes=10)\n",
        "\n",
        "Context\n",
        "\n",
        "This is often used in classification tasks (e.g., image classification with digits 0–9 in MNIST) where your labels are integers, like:\n",
        "\n",
        "Y_train = [2, 0, 1, 9, 4]\n",
        "\n",
        "Each number represents a class.\n",
        "\n",
        "Purpose\n",
        "\n",
        "The to_categorical function (usually from keras.utils) converts class labels (integers) into one-hot encoded vectors.\n",
        "\n",
        "What is One-Hot Encoding?\n",
        "\n",
        "It's a way to represent categorical values as binary vectors:\n",
        "\n",
        "The index corresponding to the class is marked as 1\n",
        "\n",
        "All others are 0\n",
        "\n",
        "\n",
        "Example (with num_classes=10):\n",
        "\n",
        "2 → [0, 0, 1, 0, 0, 0, 0, 0, 0, 0]\n",
        "\n",
        "0 → [1, 0, 0, 0, 0, 0, 0, 0, 0, 0]\n",
        "\n",
        "9 → [0, 0, 0, 0, 0, 0, 0, 0, 0, 1]\n",
        "\n",
        "\n",
        "Why Use It?\n",
        "\n",
        "Neural networks (like in Keras) often need labels in one-hot form to compute loss (e.g., categorical crossentropy)."
      ]
    },
    {
      "cell_type": "markdown",
      "metadata": {
        "id": "Sl98Vi9Ab_uQ"
      },
      "source": [
        "Labels are 10 digits numbers from 0 to 9. We need to encode these lables to one hot vectors (ex : 2 -> [0,0,1,0,0,0,0,0,0,0])."
      ]
    },
    {
      "cell_type": "markdown",
      "metadata": {
        "id": "O9tT40BzcDe8"
      },
      "source": [
        "# 2.6 Split training and valdiation set"
      ]
    },
    {
      "cell_type": "code",
      "execution_count": null,
      "metadata": {
        "id": "CHZXYV34cFxn"
      },
      "outputs": [],
      "source": [
        "# Set the random seed\n",
        "random_seed = 2"
      ]
    },
    {
      "cell_type": "markdown",
      "metadata": {
        "id": "s_O_-atY1BBA"
      },
      "source": [
        "\n",
        "random_seed = 2\n",
        "\n",
        "Explanation:\n",
        "\n",
        "This line sets a variable named random_seed to the value 2.\n",
        "\n",
        "It doesn't actually set the seed yet—it's just storing the value. You'd typically pass this variable to a function that sets the random seed for reproducibility.\n",
        "\n",
        "For example, you might later see:\n",
        "\n",
        "import numpy as np\n",
        "import tensorflow as tf\n",
        "import random\n",
        "\n",
        "random.seed(random_seed)\n",
        "np.random.seed(random_seed)\n",
        "tf.random.set_seed(random_seed)\n",
        "\n",
        "Why Set a Seed?\n",
        "\n",
        "Setting a random seed ensures that random operations (like weight initialization, shuffling, etc.) produce the same results every time you run the code. This is super useful for:\n",
        "\n",
        "Debugging\n",
        "\n",
        "Comparing experiments\n",
        "\n",
        "Reproducibility\n",
        "\n",
        "\n",
        "So in short:\n",
        "random_seed = 2 just stores the seed value 2 so it can be used later to make your code's randomness consistent."
      ]
    },
    {
      "cell_type": "code",
      "execution_count": null,
      "metadata": {
        "id": "9PNCnAzwcJI3"
      },
      "outputs": [],
      "source": [
        "# Split the train and the validation set for the fitting\n",
        "X_train, X_val, Y_train, Y_val = train_test_split(X_train, Y_train, test_size = 0.1, random_state=random_seed)"
      ]
    },
    {
      "cell_type": "markdown",
      "metadata": {
        "id": "F83p_31WcOeR"
      },
      "source": [
        "I choosed to split the train set in two parts : a small fraction (10%) became the validation set which the model is evaluated and the rest (90%) is used to train the model.\n",
        "\n",
        "Since we have 42 000 training images of balanced labels (see 2.1 Load data), a random split of the train set doesn't cause some labels to be over represented in the validation set. Be carefull with some unbalanced dataset a simple random split could cause inaccurate evaluation during the validation.\n",
        "\n",
        "To avoid that, you could use stratify = True option in train_test_split function (Only for >=0.17 sklearn versions).\n",
        "\n",
        "We can get a better sense for one of these examples by visualising the image and looking at the label."
      ]
    },
    {
      "source": [
        "# Some examples\n",
        "g = plt.imshow(X_train[0].reshape(28, 28)) #X_train is a numpy array, use array indexing"
      ],
      "cell_type": "code",
      "metadata": {
        "colab": {
          "base_uri": "https://localhost:8080/",
          "height": 409
        },
        "id": "QhXEpsncCf5A",
        "outputId": "5a0af3b1-149f-4297-d4ac-412a8a506552"
      },
      "execution_count": null,
      "outputs": [
        {
          "output_type": "display_data",
          "data": {
            "text/plain": [
              "<Figure size 640x480 with 1 Axes>"
            ],
            "image/png": "[encoded data removed]"
          },
          "metadata": {}
        }
      ]
    },
    {
      "cell_type": "markdown",
      "metadata": {
        "id": "HbYlw1jQ1v7Q"
      },
      "source": [
        "This line of code is displaying an image using matplotlib. Let's break it down:\n",
        "\n",
        "g = plt.imshow(X_train.iloc[0].values.reshape(28, 28))\n",
        "\n",
        "Explanation:\n",
        "\n",
        "1. X_train:\n",
        "\n",
        "This is likely a pandas DataFrame that holds your training data.\n",
        "\n",
        "It contains images represented as flattened arrays (e.g., 784 pixel values for 28x28 images in the MNIST dataset).\n",
        "\n",
        "\n",
        "\n",
        "2. X_train.iloc[0]:\n",
        "\n",
        ".iloc[0] is accessing the first row of the X_train DataFrame.\n",
        "\n",
        "This first row represents the pixel values of the first image in your training set, likely a 1D array of length 784 (28 x 28 pixels).\n",
        "\n",
        "\n",
        "\n",
        "3. .values:\n",
        "\n",
        ".values converts the row of the DataFrame to a NumPy array. It is necessary because imshow requires the image data to be in a NumPy array format.\n",
        "\n",
        "\n",
        "\n",
        "4. .reshape(28, 28):\n",
        "\n",
        "This reshapes the 1D array of 784 values into a 2D array of shape (28, 28), which corresponds to the dimensions of the image (28x28 pixels). This is required because imshow needs a 2D array to display the image.\n",
        "\n",
        "\n",
        "\n",
        "5. plt.imshow(...):\n",
        "\n",
        "imshow is a function from matplotlib used to display an image. It takes the reshaped image and renders it as a visual image on the screen.\n",
        "\n",
        "g stores the image object that is returned by imshow, though you don't necessarily need to keep it unless you want to manipulate the image later.\n",
        "\n",
        "\n",
        "\n",
        "\n",
        "In summary:\n",
        "\n",
        "This code takes the first image from the X_train DataFrame, reshapes it into a 28x28 array, and then displays it as an image using matplotlib."
      ]
    },
    {
      "cell_type": "markdown",
      "metadata": {
        "id": "RCYD2rMQ9AbU"
      },
      "source": [
        "# 3. CNN"
      ]
    },
    {
      "cell_type": "markdown",
      "metadata": {
        "id": "feTXDOy-9Dyb"
      },
      "source": [
        "# 3.1 Define the model"
      ]
    },
    {
      "cell_type": "markdown",
      "metadata": {
        "id": "xS0i7Ti49LCN"
      },
      "source": [
        "I used the Keras Sequential API, where you have just to add one layer at a time, starting from the input.\n",
        "\n",
        "The first is the convolutional (Conv2D) layer. It is like a set of learnable filters. I choosed to set 32 filters for the two firsts conv2D layers and 64 filters for the two last ones. Each filter transforms a part of the image (defined by the kernel size) using the kernel filter. The kernel filter matrix is applied on the whole image. Filters can be seen as a transformation of the image.\n",
        "\n",
        "The CNN can isolate features that are useful everywhere from these transformed images (feature maps).\n",
        "\n",
        "The second important layer in CNN is the pooling (MaxPool2D) layer. This layer simply acts as a downsampling filter. It looks at the 2 neighboring pixels and picks the maximal value. These are used to reduce computational cost, and to some extent also reduce overfitting. We have to choose the pooling size (i.e the area size pooled each time) more the pooling dimension is high, more the downsampling is important.\n",
        "\n",
        "Combining convolutional and pooling layers, CNN are able to combine local features and learn more global features of the image.\n",
        "\n",
        "Dropout is a regularization method, where a proportion of nodes in the layer are randomly ignored (setting their wieghts to zero) for each training sample. This drops randomly a propotion of the network and forces the network to learn features in a distributed way. This technique also improves generalization and reduces the overfitting.\n",
        "\n",
        "'relu' is the rectifier (activation function max(0,x). The rectifier activation function is used to add non linearity to the network.\n",
        "\n",
        "The Flatten layer is use to convert the final feature maps into a one single 1D vector. This flattening step is needed so that you can make use of fully connected layers after some convolutional/maxpool layers. It combines all the found local features of the previous convolutional layers.\n",
        "\n",
        "In the end i used the features in two fully-connected (Dense) layers which is just artificial an neural networks (ANN) classifier. In the last layer(Dense(10,activation=\"softmax\")) the net outputs distribution of probability of each class."
      ]
    },
    {
      "cell_type": "code",
      "execution_count": null,
      "metadata": {
        "colab": {
          "base_uri": "https://localhost:8080/"
        },
        "id": "MfH8GY5B9P3V",
        "outputId": "51487d9b-449c-481a-83a9-01b8d0f0d66c"
      },
      "outputs": [
        {
          "output_type": "stream",
          "name": "stderr",
          "text": [
            "/usr/local/lib/python3.11/dist-packages/keras/src/layers/convolutional/base_conv.py:107: UserWarning: Do not pass an `input_shape`/`input_dim` argument to a layer. When using Sequential models, prefer using an `Input(shape)` object as the first layer in the model instead.\n",
            "  super().__init__(activity_regularizer=activity_regularizer, **kwargs)\n"
          ]
        }
      ],
      "source": [
        "# Set the CNN model\n",
        "# my CNN architechture is In -> [[Conv2D->relu]*2 -> MaxPool2D -> Dropout]*2 -> Flatten -> Dense -> Dropout -> Out\n",
        "\n",
        "model = Sequential()\n",
        "\n",
        "model.add(Conv2D(filters = 32, kernel_size = (5,5),padding = 'Same',\n",
        "                 activation ='relu', input_shape = (28,28,1)))\n",
        "model.add(Conv2D(filters = 32, kernel_size = (5,5),padding = 'Same',\n",
        "                 activation ='relu'))\n",
        "model.add(MaxPool2D(pool_size=(2,2)))\n",
        "model.add(Dropout(0.25))\n",
        "\n",
        "\n",
        "model.add(Conv2D(filters = 64, kernel_size = (3,3),padding = 'Same',\n",
        "                 activation ='relu'))\n",
        "model.add(Conv2D(filters = 64, kernel_size = (3,3),padding = 'Same',\n",
        "                 activation ='relu'))\n",
        "model.add(MaxPool2D(pool_size=(2,2), strides=(2,2)))\n",
        "model.add(Dropout(0.25))\n",
        "\n",
        "\n",
        "model.add(Flatten())\n",
        "model.add(Dense(256, activation = \"relu\"))\n",
        "model.add(Dropout(0.5))\n",
        "model.add(Dense(10, activation = \"softmax\"))"
      ]
    },
    {
      "cell_type": "markdown",
      "metadata": {
        "id": "E4HoDuf99Thf"
      },
      "source": [
        "# 3.2 Set the optimizer and annealer"
      ]
    },
    {
      "cell_type": "markdown",
      "metadata": {
        "id": "_TFjtprq9ZxX"
      },
      "source": [
        "Once our layers are added to the model, we need to set up a score function, a loss function and an optimisation algorithm.\n",
        "\n",
        "We define the loss function to measure how poorly our model performs on images with known labels. It is the error rate between the oberved labels and the predicted ones. We use a specific form for categorical classifications (>2 classes) called the \"categorical_crossentropy\".\n",
        "\n",
        "The most important function is the optimizer. This function will iteratively improve parameters (filters kernel values, weights and bias of neurons ...) in order to minimise the loss.\n",
        "\n",
        "I choosed RMSprop (with default values), it is a very effective optimizer. The RMSProp update adjusts the Adagrad method in a very simple way in an attempt to reduce its aggressive, monotonically decreasing learning rate. We could also have used Stochastic Gradient Descent ('sgd') optimizer, but it is slower than RMSprop.\n",
        "\n",
        "The metric function \"accuracy\" is used is to evaluate the performance our model. This metric function is similar to the loss function, except that the results from the metric evaluation are not used when training the model (only for evaluation)."
      ]
    },
    {
      "cell_type": "code",
      "execution_count": null,
      "metadata": {
        "colab": {
          "base_uri": "https://localhost:8080/"
        },
        "id": "tOjhuKso9o7y",
        "outputId": "d0a9fcf0-a4a3-45a7-f592-8a80343c309e"
      },
      "outputs": [
        {
          "output_type": "stream",
          "name": "stderr",
          "text": [
            "/usr/local/lib/python3.11/dist-packages/keras/src/optimizers/base_optimizer.py:86: UserWarning: Argument `decay` is no longer supported and will be ignored.\n",
            "  warnings.warn(\n"
          ]
        }
      ],
      "source": [
        "# Define the optimizer\n",
        "optimizer = RMSprop(learning_rate=0.001, rho=0.9, epsilon=1e-08, decay=0.0)"
      ]
    },
    {
      "cell_type": "code",
      "execution_count": null,
      "metadata": {
        "id": "XbwZl28p94XZ"
      },
      "outputs": [],
      "source": [
        "# Compile the model\n",
        "model.compile(optimizer = optimizer , loss = \"categorical_crossentropy\", metrics=[\"accuracy\"])"
      ]
    },
    {
      "cell_type": "markdown",
      "metadata": {
        "id": "CblGhDIH97L5"
      },
      "source": [
        "In order to make the optimizer converge faster and closest to the global minimum of the loss function, i used an annealing method of the learning rate (LR).\n",
        "\n",
        "The LR is the step by which the optimizer walks through the 'loss landscape'. The higher LR, the bigger are the steps and the quicker is the convergence. However the sampling is very poor with an high LR and the optimizer could probably fall into a local minima.\n",
        "\n",
        "Its better to have a decreasing learning rate during the training to reach efficiently the global minimum of the loss function.\n",
        "\n",
        "To keep the advantage of the fast computation time with a high LR, i decreased the LR dynamically every X steps (epochs) depending if it is necessary (when accuracy is not improved).\n",
        "\n",
        "With the ReduceLROnPlateau function from Keras.callbacks, i choose to reduce the LR by half if the accuracy is not improved after 3 epochs."
      ]
    },
    {
      "cell_type": "code",
      "execution_count": null,
      "metadata": {
        "id": "w5rV6dNe-BmG"
      },
      "outputs": [],
      "source": [
        "# Set a learning rate annealer\n",
        "learning_rate_reduction = ReduceLROnPlateau(monitor='val_acc',\n",
        "                                            patience=3,\n",
        "                                            verbose=1,\n",
        "                                            factor=0.5,\n",
        "                                            min_lr=0.00001)"
      ]
    },
    {
      "cell_type": "code",
      "execution_count": null,
      "metadata": {
        "id": "qUk5MRnA-EKW"
      },
      "outputs": [],
      "source": [
        "epochs = 1 # Turn epochs to 30 to get 0.9967 accuracy\n",
        "batch_size = 86"
      ]
    },
    {
      "cell_type": "markdown",
      "metadata": {
        "id": "AP8ix1DQ-GZZ"
      },
      "source": [
        "# 3.3 Data augmentation"
      ]
    },
    {
      "cell_type": "markdown",
      "metadata": {
        "id": "Ashoe3GW-S3a"
      },
      "source": [
        "In order to avoid overfitting problem, we need to expand artificially our handwritten digit dataset. We can make your existing dataset even larger. The idea is to alter the training data with small transformations to reproduce the variations occuring when someone is writing a digit.\n",
        "\n",
        "For example, the number is not centered The scale is not the same (some who write with big/small numbers) The image is rotated...\n",
        "\n",
        "Approaches that alter the training data in ways that change the array representation while keeping the label the same are known as data augmentation techniques. Some popular augmentations people use are grayscales, horizontal flips, vertical flips, random crops, color jitters, translations, rotations, and much more.\n",
        "\n",
        "By applying just a couple of these transformations to our training data, we can easily double or triple the number of training examples and create a very robust model.\n",
        "\n",
        "The improvement is important :\n",
        "\n",
        "Without data augmentation i obtained an accuracy of 98.114%\n",
        "With data augmentation i achieved 99.67% of accuracy"
      ]
    },
    {
      "cell_type": "code",
      "execution_count": null,
      "metadata": {
        "id": "JRYw9Vsu-W_6"
      },
      "outputs": [],
      "source": [
        "# Without data augmentation i obtained an accuracy of 0.98114\n",
        "#history = model.fit(X_train, Y_train, batch_size = batch_size, epochs = epochs,\n",
        "#          validation_data = (X_val, Y_val), verbose = 2)"
      ]
    },
    {
      "source": [
        "# Reshape X_train before calling datagen.fit\n",
        "# X_train is already a NumPy array, so remove .values\n",
        "X_train = X_train.reshape(-1, 28, 28, 1)\n",
        "\n",
        "# With data augmentation to prevent overfitting (accuracy 0.99286)\n",
        "datagen = ImageDataGenerator(\n",
        "    featurewise_center=False,  # set input mean to 0 over the dataset\n",
        "    samplewise_center=False,  # set each sample mean to 0\n",
        "    featurewise_std_normalization=False,  # divide inputs by std of the dataset\n",
        "    samplewise_std_normalization=False,  # divide each input by its std\n",
        "    zca_whitening=False,  # apply ZCA whitening\n",
        "    rotation_range=10,  # randomly rotate images in the range (degrees, 0 to 180)\n",
        "    zoom_range=0.1,  # Randomly zoom image\n",
        "    width_shift_range=0.1,  # randomly shift images horizontally (fraction of total width)\n",
        "    height_shift_range=0.1,  # randomly shift images vertically (fraction of total height)\n",
        "    horizontal_flip=False,  # randomly flip images\n",
        "    vertical_flip=False,  # randomly flip images\n",
        ")\n",
        "\n",
        "datagen.fit(X_train)"
      ],
      "cell_type": "code",
      "metadata": {
        "id": "GJ9cW2EXCuSF"
      },
      "execution_count": null,
      "outputs": []
    },
    {
      "cell_type": "markdown",
      "metadata": {
        "id": "3B49k3i22v-I"
      },
      "source": [
        "Let's break this code down step by step.\n",
        "\n",
        "1. Reshaping X_train:\n",
        "\n",
        "X_train = X_train.values.reshape(-1, 28, 28, 1)\n",
        "\n",
        "X_train.values:\n",
        "\n",
        "This converts the X_train DataFrame into a NumPy array.\n",
        "\n",
        "\n",
        ".reshape(-1, 28, 28, 1):\n",
        "\n",
        "This reshapes the X_train array to a 4D shape of (-1, 28, 28, 1):\n",
        "\n",
        "-1 means \"infer this dimension based on the other dimensions\" (it calculates how many images are there).\n",
        "\n",
        "28 and 28 are the image dimensions (28x28 pixels).\n",
        "\n",
        "1 is the number of color channels. Since these are grayscale images (like MNIST), it has just 1 channel. For RGB images, this would be 3 (for red, green, and blue).\n",
        "\n",
        "\n",
        "\n",
        "After reshaping, X_train will have the shape (number_of_samples, 28, 28, 1).\n",
        "\n",
        "\n",
        "2. Creating the ImageDataGenerator:\n",
        "\n",
        "datagen = ImageDataGenerator(\n",
        "    featurewise_center=False,  # set input mean to 0 over the dataset\n",
        "    samplewise_center=False,  # set each sample mean to 0\n",
        "    featurewise_std_normalization=False,  # divide inputs by std of the dataset\n",
        "    samplewise_std_normalization=False,  # divide each input by its std\n",
        "    zca_whitening=False,  # apply ZCA whitening\n",
        "    rotation_range=10,  # randomly rotate images in the range (degrees, 0 to 180)\n",
        "    zoom_range=0.1,  # Randomly zoom image\n",
        "    width_shift_range=0.1,  # randomly shift images horizontally (fraction of total width)\n",
        "    height_shift_range=0.1,  # randomly shift images vertically (fraction of total height)\n",
        "    horizontal_flip=False,  # randomly flip images\n",
        "    vertical_flip=False,  # randomly flip images\n",
        ")\n",
        "\n",
        "Here, you are defining the data augmentation pipeline using ImageDataGenerator. This is used to augment (or modify) the images during training, which helps prevent overfitting by creating slightly different variations of the images for each epoch.\n",
        "\n",
        "featurewise_center=False:\n",
        "\n",
        "This means you are not centering the dataset by subtracting the mean of the whole dataset (i.e., each image's mean is not set to zero).\n",
        "\n",
        "\n",
        "samplewise_center=False:\n",
        "\n",
        "This means you are not centering each individual sample (image) by subtracting its mean.\n",
        "\n",
        "\n",
        "featurewise_std_normalization=False:\n",
        "\n",
        "This means you are not dividing by the standard deviation of the entire dataset.\n",
        "\n",
        "\n",
        "samplewise_std_normalization=False:\n",
        "\n",
        "This means you are not dividing each sample (image) by its standard deviation.\n",
        "\n",
        "\n",
        "zca_whitening=False:\n",
        "\n",
        "This means you are not applying ZCA whitening (a preprocessing technique to reduce correlations in the image pixels).\n",
        "\n",
        "\n",
        "rotation_range=10:\n",
        "\n",
        "This will randomly rotate the images by up to 10 degrees in any direction.\n",
        "\n",
        "\n",
        "zoom_range=0.1:\n",
        "\n",
        "This will randomly zoom in on the image by a factor of up to 10%.\n",
        "\n",
        "\n",
        "width_shift_range=0.1:\n",
        "\n",
        "This will randomly shift the image horizontally by up to 10% of the image width.\n",
        "\n",
        "\n",
        "height_shift_range=0.1:\n",
        "\n",
        "This will randomly shift the image vertically by up to 10% of the image height.\n",
        "\n",
        "\n",
        "horizontal_flip=False:\n",
        "\n",
        "This means the images will not be flipped horizontally. If set to True, it would flip some images horizontally.\n",
        "\n",
        "\n",
        "vertical_flip=False:\n",
        "\n",
        "This means the images will not be flipped vertically. If set to True, it would flip some images vertically.\n",
        "\n",
        "\n",
        "\n",
        "3. Fitting the ImageDataGenerator:\n",
        "\n",
        "datagen.fit(X_train)\n",
        "\n",
        "This line fits the ImageDataGenerator to the training data (X_train). This means it computes any necessary statistics (e.g., mean, standard deviation) that might be required for normalization or transformations based on your settings (although in this case, you set all the normalization options to False, so no stats are computed).\n",
        "\n",
        "Once fit, you can use datagen to augment your training images during training by calling it within a model's fit or fit_generator method.\n",
        "\n",
        "\n",
        "Summary:\n",
        "\n",
        "Reshaping: You reshape X_train to the proper format for input into a deep learning model, ensuring the images are in a 4D array with the shape (samples, 28, 28, 1).\n",
        "\n",
        "Data Augmentation: You create an ImageDataGenerator to perform random transformations (rotation, zoom, shift) on your images to artificially expand the training dataset and prevent overfitting.\n",
        "\n",
        "Fitting the Augmentor: You \"fit\" the generator to your data, which prepares it to apply augmentations during training."
      ]
    },
    {
      "cell_type": "markdown",
      "metadata": {
        "id": "0wbpa_hd-f9I"
      },
      "source": [
        "For the data augmentation, i chose to :\n",
        "\n",
        "Randomly rotate some training images by 10 degrees\n",
        "Randomly Zoom by 10% some training images\n",
        "Randomly shift images horizontally by 10% of the width\n",
        "Randomly shift images vertically by 10% of the height\n",
        "I did not apply a vertical_flip nor horizontal_flip since it could have lead to misclassify symetrical numbers such as 6 and 9.\n",
        "\n",
        "Once our model is ready, we fit the training dataset ."
      ]
    },
    {
      "cell_type": "code",
      "execution_count": null,
      "metadata": {
        "colab": {
          "base_uri": "https://localhost:8080/"
        },
        "id": "jpYiVR9a6abZ",
        "outputId": "902565d2-a473-47af-875b-c77c2f473019"
      },
      "outputs": [
        {
          "output_type": "stream",
          "name": "stderr",
          "text": [
            "/usr/local/lib/python3.11/dist-packages/keras/src/layers/convolutional/base_conv.py:107: UserWarning: Do not pass an `input_shape`/`input_dim` argument to a layer. When using Sequential models, prefer using an `Input(shape)` object as the first layer in the model instead.\n",
            "  super().__init__(activity_regularizer=activity_regularizer, **kwargs)\n",
            "/usr/local/lib/python3.11/dist-packages/keras/src/optimizers/base_optimizer.py:86: UserWarning: Argument `decay` is no longer supported and will be ignored.\n",
            "  warnings.warn(\n"
          ]
        }
      ],
      "source": [
        "from tensorflow.keras.models import Sequential\n",
        "from tensorflow.keras.layers import Dense, Dropout, Flatten, Conv2D, MaxPool2D\n",
        "from tensorflow.keras.optimizers import RMSprop\n",
        "\n",
        "model = Sequential()\n",
        "\n",
        "model.add(Conv2D(filters = 32, kernel_size = (5,5),padding = 'Same',\n",
        "                 activation ='relu', input_shape = (28,28,1)))\n",
        "model.add(Conv2D(filters = 32, kernel_size = (5,5),padding = 'Same',\n",
        "                 activation ='relu'))\n",
        "model.add(MaxPool2D(pool_size=(2,2)))\n",
        "model.add(Dropout(0.25))\n",
        "\n",
        "\n",
        "model.add(Conv2D(filters = 64, kernel_size = (3,3),padding = 'Same',\n",
        "                 activation ='relu'))\n",
        "model.add(Conv2D(filters = 64, kernel_size = (3,3),padding = 'Same',\n",
        "                 activation ='relu'))\n",
        "model.add(MaxPool2D(pool_size=(2,2), strides=(2,2)))\n",
        "model.add(Dropout(0.25))\n",
        "\n",
        "\n",
        "model.add(Flatten())\n",
        "model.add(Dense(256, activation = \"relu\"))\n",
        "model.add(Dropout(0.5))\n",
        "model.add(Dense(10, activation = \"softmax\"))\n",
        "\n",
        "# Define the optimizer\n",
        "optimizer = RMSprop(learning_rate=0.001, rho=0.9, epsilon=1e-08, decay=0.0)\n",
        "# Compile the model\n",
        "model.compile(optimizer = optimizer , loss = \"categorical_crossentropy\", metrics=[\"accuracy\"])"
      ]
    },
    {
      "cell_type": "markdown",
      "metadata": {
        "id": "npVmuoQH_AIa"
      },
      "source": [
        "# 4. Evaluate the model"
      ]
    },
    {
      "cell_type": "markdown",
      "metadata": {
        "id": "7osjy-W7_HwF"
      },
      "source": [
        "# 4.1 Training and validation curves"
      ]
    },
    {
      "source": [
        "# Assuming you have already defined and compiled your model as in your previous code\n",
        "\n",
        "# Set the number of epochs and batch size\n",
        "epochs = 30  # You can adjust this to your desired number of epochs\n",
        "batch_size = 86\n",
        "\n",
        "# Fit the model and store the training history\n",
        "history = model.fit(\n",
        "    datagen.flow(X_train, Y_train, batch_size=batch_size),  # Use datagen.flow for data augmentation\n",
        "    epochs=epochs,\n",
        "    validation_data=(X_val, Y_val),\n",
        "    verbose=2,  # Set verbose to 1 or 2 for progress updates during training\n",
        "    steps_per_epoch=X_train.shape[0] // batch_size,  # Adjust steps_per_epoch if needed\n",
        "    callbacks=[learning_rate_reduction]  # Include your learning rate scheduler\n",
        ")\n",
        "\n",
        "# Now you can use 'history' to plot the loss and accuracy curves"
      ],
      "cell_type": "code",
      "metadata": {
        "colab": {
          "base_uri": "https://localhost:8080/"
        },
        "id": "gCh3KbIODrhT",
        "outputId": "53ae5a5f-2757-43ad-b1ba-d6c52d5ff5ae"
      },
      "execution_count": null,
      "outputs": [
        {
          "output_type": "stream",
          "name": "stdout",
          "text": [
            "Epoch 1/30\n",
            "439/439 - 12s - 26ms/step - accuracy: 0.9853 - loss: 0.0545 - val_accuracy: 0.9924 - val_loss: 0.0236 - learning_rate: 1.0000e-03\n",
            "Epoch 2/30\n",
            "439/439 - 1s - 1ms/step - accuracy: 1.0000 - loss: 0.0047 - val_accuracy: 0.9919 - val_loss: 0.0239 - learning_rate: 1.0000e-03\n",
            "Epoch 3/30\n",
            "439/439 - 20s - 45ms/step - accuracy: 0.9847 - loss: 0.0546 - val_accuracy: 0.9952 - val_loss: 0.0202 - learning_rate: 1.0000e-03\n",
            "Epoch 4/30\n",
            "439/439 - 0s - 987us/step - accuracy: 0.9884 - loss: 0.0842 - val_accuracy: 0.9955 - val_loss: 0.0191 - learning_rate: 1.0000e-03\n",
            "Epoch 5/30\n",
            "439/439 - 20s - 46ms/step - accuracy: 0.9852 - loss: 0.0544 - val_accuracy: 0.9936 - val_loss: 0.0243 - learning_rate: 1.0000e-03\n",
            "Epoch 6/30\n",
            "439/439 - 0s - 861us/step - accuracy: 1.0000 - loss: 0.0026 - val_accuracy: 0.9936 - val_loss: 0.0240 - learning_rate: 1.0000e-03\n",
            "Epoch 7/30\n",
            "439/439 - 20s - 46ms/step - accuracy: 0.9851 - loss: 0.0572 - val_accuracy: 0.9924 - val_loss: 0.0217 - learning_rate: 1.0000e-03\n",
            "Epoch 8/30\n",
            "439/439 - 0s - 851us/step - accuracy: 1.0000 - loss: 0.0087 - val_accuracy: 0.9931 - val_loss: 0.0211 - learning_rate: 1.0000e-03\n",
            "Epoch 9/30\n",
            "439/439 - 11s - 26ms/step - accuracy: 0.9853 - loss: 0.0555 - val_accuracy: 0.9926 - val_loss: 0.0283 - learning_rate: 1.0000e-03\n",
            "Epoch 10/30\n",
            "439/439 - 0s - 840us/step - accuracy: 1.0000 - loss: 0.0266 - val_accuracy: 0.9938 - val_loss: 0.0207 - learning_rate: 1.0000e-03\n",
            "Epoch 11/30\n",
            "439/439 - 12s - 28ms/step - accuracy: 0.9844 - loss: 0.0592 - val_accuracy: 0.9929 - val_loss: 0.0360 - learning_rate: 1.0000e-03\n",
            "Epoch 12/30\n",
            "439/439 - 0s - 875us/step - accuracy: 0.9884 - loss: 0.0758 - val_accuracy: 0.9926 - val_loss: 0.0315 - learning_rate: 1.0000e-03\n",
            "Epoch 13/30\n",
            "439/439 - 19s - 44ms/step - accuracy: 0.9848 - loss: 0.0582 - val_accuracy: 0.9898 - val_loss: 0.0391 - learning_rate: 1.0000e-03\n",
            "Epoch 14/30\n",
            "439/439 - 1s - 2ms/step - accuracy: 0.9767 - loss: 0.0730 - val_accuracy: 0.9921 - val_loss: 0.0296 - learning_rate: 1.0000e-03\n",
            "Epoch 15/30\n",
            "439/439 - 20s - 46ms/step - accuracy: 0.9857 - loss: 0.0547 - val_accuracy: 0.9943 - val_loss: 0.0223 - learning_rate: 1.0000e-03\n",
            "Epoch 16/30\n",
            "439/439 - 0s - 860us/step - accuracy: 0.9651 - loss: 0.0718 - val_accuracy: 0.9933 - val_loss: 0.0221 - learning_rate: 1.0000e-03\n",
            "Epoch 17/30\n",
            "439/439 - 20s - 46ms/step - accuracy: 0.9855 - loss: 0.0575 - val_accuracy: 0.9919 - val_loss: 0.0287 - learning_rate: 1.0000e-03\n",
            "Epoch 18/30\n",
            "439/439 - 0s - 861us/step - accuracy: 0.9767 - loss: 0.0614 - val_accuracy: 0.9938 - val_loss: 0.0262 - learning_rate: 1.0000e-03\n",
            "Epoch 19/30\n",
            "439/439 - 12s - 28ms/step - accuracy: 0.9835 - loss: 0.0599 - val_accuracy: 0.9938 - val_loss: 0.0209 - learning_rate: 1.0000e-03\n",
            "Epoch 20/30\n",
            "439/439 - 0s - 835us/step - accuracy: 0.9767 - loss: 0.0469 - val_accuracy: 0.9940 - val_loss: 0.0205 - learning_rate: 1.0000e-03\n",
            "Epoch 21/30\n",
            "439/439 - 11s - 26ms/step - accuracy: 0.9846 - loss: 0.0577 - val_accuracy: 0.9957 - val_loss: 0.0163 - learning_rate: 1.0000e-03\n",
            "Epoch 22/30\n",
            "439/439 - 0s - 915us/step - accuracy: 0.9767 - loss: 0.0642 - val_accuracy: 0.9950 - val_loss: 0.0170 - learning_rate: 1.0000e-03\n",
            "Epoch 23/30\n",
            "439/439 - 20s - 45ms/step - accuracy: 0.9853 - loss: 0.0595 - val_accuracy: 0.9933 - val_loss: 0.0302 - learning_rate: 1.0000e-03\n",
            "Epoch 24/30\n",
            "439/439 - 0s - 838us/step - accuracy: 0.9884 - loss: 0.1026 - val_accuracy: 0.9931 - val_loss: 0.0268 - learning_rate: 1.0000e-03\n",
            "Epoch 25/30\n",
            "439/439 - 20s - 46ms/step - accuracy: 0.9839 - loss: 0.0634 - val_accuracy: 0.9929 - val_loss: 0.0332 - learning_rate: 1.0000e-03\n",
            "Epoch 26/30\n",
            "439/439 - 1s - 1ms/step - accuracy: 0.9884 - loss: 0.2480 - val_accuracy: 0.9886 - val_loss: 0.0369 - learning_rate: 1.0000e-03\n",
            "Epoch 27/30\n",
            "439/439 - 12s - 26ms/step - accuracy: 0.9852 - loss: 0.0654 - val_accuracy: 0.9936 - val_loss: 0.0302 - learning_rate: 1.0000e-03\n",
            "Epoch 28/30\n",
            "439/439 - 0s - 860us/step - accuracy: 1.0000 - loss: 0.0158 - val_accuracy: 0.9936 - val_loss: 0.0327 - learning_rate: 1.0000e-03\n",
            "Epoch 29/30\n",
            "439/439 - 20s - 46ms/step - accuracy: 0.9848 - loss: 0.0592 - val_accuracy: 0.9900 - val_loss: 0.0572 - learning_rate: 1.0000e-03\n",
            "Epoch 30/30\n",
            "439/439 - 0s - 863us/step - accuracy: 0.9884 - loss: 0.0628 - val_accuracy: 0.9929 - val_loss: 0.0353 - learning_rate: 1.0000e-03\n"
          ]
        }
      ]
    },
    {
      "cell_type": "code",
      "execution_count": null,
      "metadata": {
        "colab": {
          "base_uri": "https://localhost:8080/",
          "height": 313
        },
        "id": "njL1xFX-67wO",
        "outputId": "e13ce1fc-63c7-4030-c2b0-8592343aaaf7"
      },
      "outputs": [
        {
          "output_type": "display_data",
          "data": {
            "text/plain": [
              "<Figure size 800x600 with 2 Axes>"
            ],
            "image/png": "[encoded data removed]"
          },
          "metadata": {}
        }
      ],
      "source": [
        "import matplotlib.pyplot as plt\n",
        "\n",
        "# Assuming you have trained the model and stored the history in a variable called 'history'\n",
        "# For example: history = model.fit(X_train, Y_train, batch_size=batch_size, epochs=epochs, validation_data=(X_val, Y_val), verbose=2)\n",
        "\n",
        "# Plot the loss and accuracy curves for training and validation\n",
        "fig, ax = plt.subplots(2, 1, figsize=(8, 6))\n",
        "\n",
        "# Plot training & validation loss\n",
        "ax[0].plot(history.history['loss'], color='b', label=\"Training loss\")\n",
        "ax[0].plot(history.history['val_loss'], color='r', label=\"Validation loss\")\n",
        "ax[0].set_title('Loss')\n",
        "ax[0].legend(loc='best', shadow=True)\n",
        "\n",
        "# Plot training & validation accuracy\n",
        "ax[1].plot(history.history.get('accuracy', history.history.get('acc', [])), color='b', label=\"Training accuracy\")\n",
        "ax[1].plot(history.history.get('val_accuracy', history.history.get('val_acc', [])), color='r', label=\"Validation accuracy\")\n",
        "ax[1].set_title('Accuracy')\n",
        "ax[1].legend(loc='best', shadow=True)\n",
        "\n",
        "# Adjust layout for better display\n",
        "plt.tight_layout()\n",
        "plt.show()"
      ]
    },
    {
      "cell_type": "code",
      "execution_count": null,
      "metadata": {
        "colab": {
          "base_uri": "https://localhost:8080/"
        },
        "id": "U5BQJmLc7XpB",
        "outputId": "8e6e01c4-bc1a-4198-ebf1-d69caaef0dbf"
      },
      "outputs": [
        {
          "output_type": "stream",
          "name": "stdout",
          "text": [
            "Epoch 1/30\n",
            "439/439 - 12s - 27ms/step - accuracy: 0.9840 - loss: 0.0630 - val_accuracy: 0.9924 - val_loss: 0.0397 - learning_rate: 1.0000e-03\n",
            "Epoch 2/30\n",
            "439/439 - 0s - 845us/step - accuracy: 0.9767 - loss: 0.1382 - val_accuracy: 0.9907 - val_loss: 0.0390 - learning_rate: 1.0000e-03\n",
            "Epoch 3/30\n",
            "439/439 - 12s - 27ms/step - accuracy: 0.9842 - loss: 0.0660 - val_accuracy: 0.9940 - val_loss: 0.0211 - learning_rate: 1.0000e-03\n",
            "Epoch 4/30\n",
            "439/439 - 1s - 1ms/step - accuracy: 0.9884 - loss: 0.0581 - val_accuracy: 0.9943 - val_loss: 0.0222 - learning_rate: 1.0000e-03\n",
            "Epoch 5/30\n",
            "439/439 - 20s - 45ms/step - accuracy: 0.9836 - loss: 0.0677 - val_accuracy: 0.9919 - val_loss: 0.0362 - learning_rate: 1.0000e-03\n",
            "Epoch 6/30\n",
            "439/439 - 1s - 1ms/step - accuracy: 0.9884 - loss: 0.0390 - val_accuracy: 0.9907 - val_loss: 0.0497 - learning_rate: 1.0000e-03\n",
            "Epoch 7/30\n",
            "439/439 - 12s - 27ms/step - accuracy: 0.9846 - loss: 0.0657 - val_accuracy: 0.9919 - val_loss: 0.0301 - learning_rate: 1.0000e-03\n",
            "Epoch 8/30\n",
            "439/439 - 1s - 1ms/step - accuracy: 0.9419 - loss: 0.2496 - val_accuracy: 0.9919 - val_loss: 0.0286 - learning_rate: 1.0000e-03\n",
            "Epoch 9/30\n",
            "439/439 - 13s - 29ms/step - accuracy: 0.9849 - loss: 0.0628 - val_accuracy: 0.9938 - val_loss: 0.0287 - learning_rate: 1.0000e-03\n",
            "Epoch 10/30\n",
            "439/439 - 0s - 859us/step - accuracy: 0.9884 - loss: 0.1363 - val_accuracy: 0.9914 - val_loss: 0.0281 - learning_rate: 1.0000e-03\n",
            "Epoch 11/30\n",
            "439/439 - 12s - 27ms/step - accuracy: 0.9837 - loss: 0.0678 - val_accuracy: 0.9905 - val_loss: 0.0571 - learning_rate: 1.0000e-03\n",
            "Epoch 12/30\n",
            "439/439 - 0s - 841us/step - accuracy: 0.9884 - loss: 0.0591 - val_accuracy: 0.9938 - val_loss: 0.0403 - learning_rate: 1.0000e-03\n",
            "Epoch 13/30\n",
            "439/439 - 20s - 46ms/step - accuracy: 0.9842 - loss: 0.0661 - val_accuracy: 0.9940 - val_loss: 0.0227 - learning_rate: 1.0000e-03\n",
            "Epoch 14/30\n",
            "439/439 - 0s - 829us/step - accuracy: 1.0000 - loss: 0.0065 - val_accuracy: 0.9938 - val_loss: 0.0243 - learning_rate: 1.0000e-03\n",
            "Epoch 15/30\n",
            "439/439 - 12s - 27ms/step - accuracy: 0.9836 - loss: 0.0729 - val_accuracy: 0.9938 - val_loss: 0.0248 - learning_rate: 1.0000e-03\n",
            "Epoch 16/30\n",
            "439/439 - 1s - 1ms/step - accuracy: 0.9884 - loss: 0.0299 - val_accuracy: 0.9936 - val_loss: 0.0258 - learning_rate: 1.0000e-03\n",
            "Epoch 17/30\n",
            "439/439 - 12s - 27ms/step - accuracy: 0.9837 - loss: 0.0664 - val_accuracy: 0.9917 - val_loss: 0.0319 - learning_rate: 1.0000e-03\n",
            "Epoch 18/30\n",
            "439/439 - 0s - 871us/step - accuracy: 0.9767 - loss: 0.2145 - val_accuracy: 0.9902 - val_loss: 0.0344 - learning_rate: 1.0000e-03\n",
            "Epoch 19/30\n",
            "439/439 - 12s - 26ms/step - accuracy: 0.9836 - loss: 0.0729 - val_accuracy: 0.9938 - val_loss: 0.0299 - learning_rate: 1.0000e-03\n",
            "Epoch 20/30\n",
            "439/439 - 0s - 859us/step - accuracy: 1.0000 - loss: 0.0051 - val_accuracy: 0.9940 - val_loss: 0.0327 - learning_rate: 1.0000e-03\n",
            "Epoch 21/30\n",
            "439/439 - 12s - 26ms/step - accuracy: 0.9823 - loss: 0.0727 - val_accuracy: 0.9929 - val_loss: 0.0375 - learning_rate: 1.0000e-03\n",
            "Epoch 22/30\n",
            "439/439 - 0s - 837us/step - accuracy: 1.0000 - loss: 0.0054 - val_accuracy: 0.9933 - val_loss: 0.0392 - learning_rate: 1.0000e-03\n",
            "Epoch 23/30\n",
            "439/439 - 20s - 46ms/step - accuracy: 0.9831 - loss: 0.0684 - val_accuracy: 0.9933 - val_loss: 0.0261 - learning_rate: 1.0000e-03\n",
            "Epoch 24/30\n",
            "439/439 - 1s - 1ms/step - accuracy: 0.9767 - loss: 0.0965 - val_accuracy: 0.9914 - val_loss: 0.0270 - learning_rate: 1.0000e-03\n",
            "Epoch 25/30\n",
            "439/439 - 19s - 44ms/step - accuracy: 0.9824 - loss: 0.0735 - val_accuracy: 0.9931 - val_loss: 0.0379 - learning_rate: 1.0000e-03\n",
            "Epoch 26/30\n",
            "439/439 - 0s - 842us/step - accuracy: 0.9884 - loss: 0.0217 - val_accuracy: 0.9921 - val_loss: 0.0432 - learning_rate: 1.0000e-03\n",
            "Epoch 27/30\n",
            "439/439 - 20s - 46ms/step - accuracy: 0.9835 - loss: 0.0706 - val_accuracy: 0.9910 - val_loss: 0.0458 - learning_rate: 1.0000e-03\n",
            "Epoch 28/30\n",
            "439/439 - 0s - 829us/step - accuracy: 0.9767 - loss: 0.0849 - val_accuracy: 0.9902 - val_loss: 0.0543 - learning_rate: 1.0000e-03\n",
            "Epoch 29/30\n",
            "439/439 - 12s - 28ms/step - accuracy: 0.9830 - loss: 0.0738 - val_accuracy: 0.9910 - val_loss: 0.0485 - learning_rate: 1.0000e-03\n",
            "Epoch 30/30\n",
            "439/439 - 1s - 1ms/step - accuracy: 0.9767 - loss: 0.0525 - val_accuracy: 0.9886 - val_loss: 0.0573 - learning_rate: 1.0000e-03\n"
          ]
        }
      ],
      "source": [
        "# Import necessary modules\n",
        "from tensorflow.keras.preprocessing.image import ImageDataGenerator\n",
        "\n",
        "# With data augmentation to prevent overfitting (accuracy 0.99286)\n",
        "datagen = ImageDataGenerator(\n",
        "    featurewise_center=False,  # set input mean to 0 over the dataset\n",
        "    samplewise_center=False,  # set each sample mean to 0\n",
        "    featurewise_std_normalization=False,  # divide inputs by std of the dataset\n",
        "    samplewise_std_normalization=False,  # divide each input by its std\n",
        "    zca_whitening=False,  # apply ZCA whitening\n",
        "    rotation_range=10,  # randomly rotate images in the range (degrees, 0 to 180)\n",
        "    zoom_range=0.1,  # Randomly zoom image\n",
        "    width_shift_range=0.1,  # randomly shift images horizontally (fraction of total width)\n",
        "    height_shift_range=0.1,  # randomly shift images vertically (fraction of total height)\n",
        "    horizontal_flip=False,  # randomly flip images\n",
        "    vertical_flip=False,  # randomly flip images\n",
        ")\n",
        "\n",
        "\n",
        "datagen.fit(X_train)\n",
        "\n",
        "# Set the number of epochs and batch size\n",
        "epochs = 30  # You can adjust this to your desired number of epochs\n",
        "batch_size = 86\n",
        "\n",
        "# Fit the model and store the training history\n",
        "history = model.fit(\n",
        "    datagen.flow(X_train, Y_train, batch_size=batch_size),  # Use datagen.flow for data augmentation\n",
        "    epochs=epochs,\n",
        "    validation_data=(X_val, Y_val),\n",
        "    verbose=2,  # Set verbose to 1 or 2 for progress updates during training\n",
        "    steps_per_epoch=X_train.shape[0] // batch_size,  # Adjust steps_per_epoch if needed\n",
        "    callbacks=[learning_rate_reduction]  # Include your learning rate scheduler\n",
        ")\n",
        "\n",
        "# Now you can use 'history' to plot the loss and accuracy curves"
      ]
    },
    {
      "cell_type": "markdown",
      "metadata": {
        "id": "Jqs51gbQAiPF"
      },
      "source": [
        "The code below is for plotting loss and accuracy curves for training and validation. Since, i set epochs = 2 on this notebook . I'll show you the training and validation curves i obtained from the model i build with 30 epochs (2h30)\n",
        "\n",
        "\n",
        "\n",
        "The model reaches almost 99% (98.7+%) accuracy on the validation dataset after 2 epochs. The validation accuracy is greater than the training accuracy almost evry time during the training. That means that our model dosen't not overfit the training set.\n",
        "\n",
        "Our model is very well trained !!!"
      ]
    },
    {
      "cell_type": "markdown",
      "metadata": {
        "id": "GuFJAmNeAlbC"
      },
      "source": [
        "# 4.2 Confusion matrix"
      ]
    },
    {
      "cell_type": "markdown",
      "metadata": {
        "id": "n4yrTaXLArSm"
      },
      "source": [
        "Confusion matrix can be very helpfull to see your model drawbacks.\n",
        "\n",
        "I plot the confusion matrix of the validation results."
      ]
    },
    {
      "cell_type": "code",
      "execution_count": null,
      "metadata": {
        "colab": {
          "base_uri": "https://localhost:8080/",
          "height": 386
        },
        "id": "2iAueRWpAxHy",
        "outputId": "b8b06faa-99b6-4c56-cfb1-52b660f57eef"
      },
      "outputs": [
        {
          "output_type": "stream",
          "name": "stdout",
          "text": [
            "\u001b[1m132/132\u001b[0m \u001b[32m━━━━━━━━━━━━━━━━━━━━\u001b[0m\u001b[37m\u001b[0m \u001b[1m1s\u001b[0m 4ms/step\n"
          ]
        },
        {
          "output_type": "display_data",
          "data": {
            "text/plain": [
              "<Figure size 640x480 with 2 Axes>"
            ],
            "image/png": "[encoded data removed]"
          },
          "metadata": {}
        }
      ],
      "source": [
        "# Look at confusion matrix\n",
        "\n",
        "def plot_confusion_matrix(cm, classes,\n",
        "                          normalize=False,\n",
        "                          title='Confusion matrix',\n",
        "                          cmap=plt.cm.Blues):\n",
        "    \"\"\"\n",
        "    This function prints and plots the confusion matrix.\n",
        "    Normalization can be applied by setting `normalize=True`.\n",
        "    \"\"\"\n",
        "    plt.imshow(cm, interpolation='nearest', cmap=cmap)\n",
        "    plt.title(title)\n",
        "    plt.colorbar()\n",
        "    tick_marks = np.arange(len(classes))\n",
        "    plt.xticks(tick_marks, classes, rotation=45)\n",
        "    plt.yticks(tick_marks, classes)\n",
        "\n",
        "    if normalize:\n",
        "        cm = cm.astype('float') / cm.sum(axis=1)[:, np.newaxis]\n",
        "\n",
        "    thresh = cm.max() / 2.\n",
        "    for i, j in itertools.product(range(cm.shape[0]), range(cm.shape[1])):\n",
        "        plt.text(j, i, cm[i, j],\n",
        "                 horizontalalignment=\"center\",\n",
        "                 color=\"white\" if cm[i, j] > thresh else \"black\")\n",
        "\n",
        "    plt.tight_layout()\n",
        "    plt.ylabel('True label')\n",
        "    plt.xlabel('Predicted label')\n",
        "\n",
        "# Predict the values from the validation dataset\n",
        "Y_pred = model.predict(X_val)\n",
        "# Convert predictions classes to one hot vectors\n",
        "Y_pred_classes = np.argmax(Y_pred,axis = 1)\n",
        "# Convert validation observations to one hot vectors\n",
        "Y_true = np.argmax(Y_val,axis = 1)\n",
        "# compute the confusion matrix\n",
        "confusion_mtx = confusion_matrix(Y_true, Y_pred_classes)\n",
        "# plot the confusion matrix\n",
        "plot_confusion_matrix(confusion_mtx, classes = range(10))"
      ]
    },
    {
      "cell_type": "markdown",
      "metadata": {
        "id": "kIfJ9qwaA46B"
      },
      "source": [
        "Here we can see that our CNN performs very well on all digits with few errors considering the size of the validation set (4 200 images).\n",
        "\n",
        "However, it seems that our CNN has some little troubles with the 4 digits, hey are misclassified as 9. Sometime it is very difficult to catch the difference between 4 and 9 when curves are smooth.\n",
        "\n",
        "Let's investigate for errors.\n",
        "\n",
        "I want to see the most important errors . For that purpose i need to get the difference between the probabilities of real value and the predicted ones in the results."
      ]
    },
    {
      "cell_type": "code",
      "execution_count": null,
      "metadata": {
        "colab": {
          "base_uri": "https://localhost:8080/",
          "height": 334
        },
        "id": "f6Y327sfBAqR",
        "outputId": "13047022-21aa-44cd-cb0a-5b8fe7ab6118"
      },
      "outputs": [
        {
          "output_type": "display_data",
          "data": {
            "text/plain": [
              "<Figure size 640x480 with 6 Axes>"
            ],
            "image/png": "[encoded data removed]"
          },
          "metadata": {}
        }
      ],
      "source": [
        "# Display some error results\n",
        "\n",
        "# Errors are difference between predicted labels and true labels\n",
        "errors = (Y_pred_classes - Y_true != 0)\n",
        "\n",
        "Y_pred_classes_errors = Y_pred_classes[errors]\n",
        "Y_pred_errors = Y_pred[errors]\n",
        "Y_true_errors = Y_true[errors]\n",
        "X_val_errors = X_val[errors]\n",
        "\n",
        "def display_errors(errors_index,img_errors,pred_errors, obs_errors):\n",
        "    \"\"\" This function shows 6 images with their predicted and real labels\"\"\"\n",
        "    n = 0\n",
        "    nrows = 2\n",
        "    ncols = 3\n",
        "    fig, ax = plt.subplots(nrows,ncols,sharex=True,sharey=True)\n",
        "    for row in range(nrows):\n",
        "        for col in range(ncols):\n",
        "            error = errors_index[n]\n",
        "            ax[row,col].imshow((img_errors[error]).reshape((28,28)))\n",
        "            ax[row,col].set_title(\"Predicted label :{}\\nTrue label :{}\".format(pred_errors[error],obs_errors[error]))\n",
        "            n += 1\n",
        "\n",
        "# Probabilities of the wrong predicted numbers\n",
        "Y_pred_errors_prob = np.max(Y_pred_errors,axis = 1)\n",
        "\n",
        "# Predicted probabilities of the true values in the error set\n",
        "true_prob_errors = np.diagonal(np.take(Y_pred_errors, Y_true_errors, axis=1))\n",
        "\n",
        "# Difference between the probability of the predicted label and the true label\n",
        "delta_pred_true_errors = Y_pred_errors_prob - true_prob_errors\n",
        "\n",
        "# Sorted list of the delta prob errors\n",
        "sorted_dela_errors = np.argsort(delta_pred_true_errors)\n",
        "\n",
        "# Top 6 errors\n",
        "most_important_errors = sorted_dela_errors[-6:]\n",
        "\n",
        "# Show the top 6 errors\n",
        "display_errors(most_important_errors, X_val_errors, Y_pred_classes_errors, Y_true_errors)"
      ]
    },
    {
      "cell_type": "markdown",
      "metadata": {
        "id": "_WYMTWbmBGLv"
      },
      "source": [
        "The most important errors are also the most intrigous.\n",
        "\n",
        "For those six case, the model is not ridiculous. Some of these errors can also be made by humans, especially for one the 9 that is very close to a 4. The last 9 is also very misleading, it seems for me that is a 0."
      ]
    },
    {
      "cell_type": "code",
      "execution_count": null,
      "metadata": {
        "colab": {
          "base_uri": "https://localhost:8080/"
        },
        "id": "ZnPwM2QcBJm5",
        "outputId": "799f5556-ba28-4c20-da0b-2a715b6401e6"
      },
      "outputs": [
        {
          "output_type": "stream",
          "name": "stdout",
          "text": [
            "\u001b[1m875/875\u001b[0m \u001b[32m━━━━━━━━━━━━━━━━━━━━\u001b[0m\u001b[37m\u001b[0m \u001b[1m2s\u001b[0m 2ms/step\n"
          ]
        }
      ],
      "source": [
        "# predict results\n",
        "results = model.predict(test)\n",
        "\n",
        "# select the indix with the maximum probability\n",
        "results = np.argmax(results,axis = 1)\n",
        "\n",
        "results = pd.Series(results,name=\"Label\")"
      ]
    }
  ],
  "metadata": {
    "accelerator": "GPU",
    "colab": {
      "gpuType": "T4",
      "provenance": [],
      "include_colab_link": true
    },
    "kernelspec": {
      "display_name": "Python 3",
      "name": "python3"
    },
    "language_info": {
      "name": "python"
    }
  },
  "nbformat": 4,
  "nbformat_minor": 0
}