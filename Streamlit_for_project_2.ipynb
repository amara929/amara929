{
  "nbformat": 4,
  "nbformat_minor": 0,
  "metadata": {
    "colab": {
      "provenance": [],
      "authorship_tag": "ABX9TyPAifEIcN0Ma+Is60ZWzlyg",
      "include_colab_link": true
    },
    "kernelspec": {
      "name": "python3",
      "display_name": "Python 3"
    },
    "language_info": {
      "name": "python"
    }
  },
  "cells": [
    {
      "cell_type": "markdown",
      "metadata": {
        "id": "view-in-github",
        "colab_type": "text"
      },
      "source": [
        "<a href=\"https://colab.research.google.com/github/amara929/amara929/blob/main/Streamlit_for_project_2.ipynb\" target=\"_parent\"><img src=\"https://colab.research.google.com/assets/colab-badge.svg\" alt=\"Open In Colab\"/></a>"
      ]
    },
    {
      "cell_type": "code",
      "execution_count": null,
      "metadata": {
        "id": "I7Wgel-MRx2C"
      },
      "outputs": [],
      "source": [
        "!pip install -q streamlit pyngrok plotly statsmodels seaborn"
      ]
    },
    {
      "cell_type": "code",
      "source": [
        "%%writefile app.py\n",
        "import streamlit as st\n",
        "import pandas as pd\n",
        "import numpy as np\n",
        "import matplotlib.pyplot as plt\n",
        "import plotly.express as px\n",
        "import seaborn as sns\n",
        "from statsmodels.tsa.seasonal import seasonal_decompose\n",
        "from statsmodels.tsa.statespace.sarimax import SARIMAX\n",
        "from scipy import stats\n",
        "from sklearn.metrics import mean_squared_error, mean_absolute_error\n",
        "\n",
        "st.set_page_config(page_title=\"Bitcoin Time Series Analysis\", layout=\"wide\")\n",
        "st.title(\"📈 Bitcoin Time Series Forecasting & Investor Analysis\")\n",
        "\n",
        "uploaded_file = st.file_uploader(\"/content/Bitcoin.csv\", type=[\"csv\"])\n",
        "if uploaded_file:\n",
        "    df = pd.read_csv(\"/content/Bitcoin.csv\")\n",
        "    df.drop_duplicates(inplace=True)\n",
        "\n",
        "    if 'Date' not in df.columns:\n",
        "        st.warning(\"Missing 'Date' column in dataset.\")\n",
        "    else:\n",
        "        df['Date'] = pd.to_datetime(df['Date'])\n",
        "        df.set_index('Date', inplace=True)\n",
        "        st.subheader(\"Preview of Dataset\")\n",
        "        st.write(df.head())\n",
        "\n",
        "        # Visualize Price Distribution\n",
        "        st.subheader(\"Low vs High Price Interactive Scatter Plot\")\n",
        "        fig = px.scatter(df, x='Low', y='High', color='Volume', title='Low vs High Price')\n",
        "        st.plotly_chart(fig)\n",
        "\n",
        "        st.subheader(\"Correlation Heatmap\")\n",
        "        fig2, ax = plt.subplots(figsize=(10, 6))\n",
        "        sns.heatmap(df.corr(numeric_only=True), annot=True, cmap=\"coolwarm\", fmt=\".2f\", ax=ax)\n",
        "        st.pyplot(fig2)\n",
        "\n",
        "        st.subheader(\"Boxplot of Volume\")\n",
        "        fig3, ax = plt.subplots()\n",
        "        sns.boxplot(data=df[['Volume']], ax=ax)\n",
        "        st.pyplot(fig3)\n",
        "\n",
        "        st.subheader(\"Pairplot (sampled data)\")\n",
        "        sampled_df = df.sample(min(200, len(df)))  # reduce for speed\n",
        "        fig4 = sns.pairplot(sampled_df)\n",
        "        st.pyplot(fig4)\n",
        "\n",
        "        st.subheader(\"Seasonal Decomposition (High Prices)\")\n",
        "        try:\n",
        "            decomposition = seasonal_decompose(df['High'], model='multiplicative', period=12)\n",
        "            fig5, axs = plt.subplots(4, 1, figsize=(10, 8))\n",
        "            decomposition.observed.plot(ax=axs[0], title='Observed')\n",
        "            decomposition.trend.plot(ax=axs[1], title='Trend')\n",
        "            decomposition.seasonal.plot(ax=axs[2], title='Seasonal')\n",
        "            decomposition.resid.plot(ax=axs[3], title='Residual')\n",
        "            plt.tight_layout()\n",
        "            st.pyplot(fig5)\n",
        "        except Exception as e:\n",
        "            st.warning(f\"Seasonal decomposition failed: {e}\")\n",
        "\n",
        "        st.subheader(\"Train SARIMA Model\")\n",
        "        train_size = int(len(df) * 0.8)\n",
        "        train, test = df.iloc[:train_size], df.iloc[train_size:]\n",
        "\n",
        "        train_data = train[['High']]\n",
        "        test_data = test[['High']]\n",
        "\n",
        "        try:\n",
        "            model = SARIMAX(train_data, order=(1, 1, 1), seasonal_order=(1, 1, 1, 12))\n",
        "            model_fit = model.fit(disp=False)\n",
        "            predictions = model_fit.predict(start=len(train), end=len(df)-1, dynamic=False)\n",
        "\n",
        "            mae = mean_absolute_error(test['High'], predictions)\n",
        "            mse = mean_squared_error(test['High'], predictions)\n",
        "            rmse = np.sqrt(mse)\n",
        "\n",
        "            st.success(f\"MAE: {mae:.2f}, MSE: {mse:.2f}, RMSE: {rmse:.2f}\")\n",
        "\n",
        "            fig6, ax = plt.subplots(figsize=(12, 5))\n",
        "            ax.plot(train.index, train['High'], label='Train')\n",
        "            ax.plot(test.index, test['High'], label='Test', color='orange')\n",
        "            ax.plot(test.index, predictions, label='Predicted', color='red')\n",
        "            ax.legend()\n",
        "            st.pyplot(fig6)\n",
        "\n",
        "            steps = st.slider(\"Select future steps to forecast\", 1, 100, 30)\n",
        "            forecast = model_fit.forecast(steps=steps)\n",
        "            st.line_chart(forecast)\n",
        "\n",
        "        except Exception as e:\n",
        "            st.error(f\"Model failed: {e}\")\n",
        "\n",
        "        st.subheader(\"Hypothesis Testing\")\n",
        "        if 'Adj Close' in df.columns and 'Volume' in df.columns:\n",
        "            try:\n",
        "                df['Volume_Level'] = pd.qcut(df['Volume'], 2, labels=['Low', 'High'])\n",
        "                t_stat, p_value = stats.ttest_ind(\n",
        "                    df[df['Volume_Level'] == 'Low']['Adj Close'],\n",
        "                    df[df['Volume_Level'] == 'High']['Adj Close']\n",
        "                )\n",
        "                st.write(f\"Two-sample t-test p-value: {p_value:.4f}\")\n",
        "                if p_value < 0.05:\n",
        "                    st.success(\"Statistically significant difference found.\")\n",
        "                else:\n",
        "                    st.info(\"No significant difference found.\")\n",
        "            except Exception as e:\n",
        "                st.warning(f\"T-test failed: {e}\")\n",
        "        else:\n",
        "            st.info(\"Missing 'Adj Close' or 'Volume' column for hypothesis testing.\")\n",
        "\n",
        "else:\n",
        "    st.info(\"/content/Bitcoin.csv\")"
      ],
      "metadata": {
        "colab": {
          "base_uri": "https://localhost:8080/"
        },
        "id": "rMsKEXrFR4y5",
        "outputId": "16d9bdad-a17e-4a9a-e5a2-f4052917132d"
      },
      "execution_count": null,
      "outputs": [
        {
          "output_type": "stream",
          "name": "stdout",
          "text": [
            "Overwriting app.py\n"
          ]
        }
      ]
    },
    {
      "cell_type": "code",
      "source": [
        "# Install required dependencies\n",
        "!pip install streamlit pyngrok\n",
        "\n",
        "# Import required libraries\n",
        "from pyngrok import ngrok\n",
        "import os\n",
        "\n",
        "# Set your ngrok auth token (Make sure to replace this with your actual token)\n",
        "from pyngrok import conf\n",
        "conf.get_default().auth_token = \"2vZiU5W9H7a3KEwplhCvW7nyAYt_2R4zc4XRfoCyed2y9yeYZ\"\n",
        "\n",
        "# Kill any previous ngrok tunnels\n",
        "ngrok.kill()\n",
        "\n",
        "# Run Streamlit app in the background\n",
        "# Use os.system or subprocess to run the app\n",
        "os.system(\"nohup streamlit run /content/app.py --server.port 8501 &\")\n",
        "\n",
        "# Expose Streamlit app through ngrok on port 8501\n",
        "public_url = ngrok.connect(8501)\n",
        "print(f\"Streamlit app is live at: {public_url}\")\n",
        "import subprocess\n",
        "\n",
        "subprocess.Popen(['nohup', 'streamlit', 'run', 'app.py', '--server.port', '5000', '&'])"
      ],
      "metadata": {
        "colab": {
          "base_uri": "https://localhost:8080/"
        },
        "id": "kmBhtD-x3KOM",
        "outputId": "aa8d5d56-81ba-4adb-c71d-95b3a07f8403"
      },
      "execution_count": null,
      "outputs": [
        {
          "output_type": "stream",
          "name": "stdout",
          "text": [
            "Requirement already satisfied: streamlit in /usr/local/lib/python3.11/dist-packages (1.44.1)\n",
            "Requirement already satisfied: pyngrok in /usr/local/lib/python3.11/dist-packages (7.2.3)\n",
            "Requirement already satisfied: altair<6,>=4.0 in /usr/local/lib/python3.11/dist-packages (from streamlit) (5.5.0)\n",
            "Requirement already satisfied: blinker<2,>=1.0.0 in /usr/local/lib/python3.11/dist-packages (from streamlit) (1.9.0)\n",
            "Requirement already satisfied: cachetools<6,>=4.0 in /usr/local/lib/python3.11/dist-packages (from streamlit) (5.5.2)\n",
            "Requirement already satisfied: click<9,>=7.0 in /usr/local/lib/python3.11/dist-packages (from streamlit) (8.1.8)\n",
            "Requirement already satisfied: numpy<3,>=1.23 in /usr/local/lib/python3.11/dist-packages (from streamlit) (2.0.2)\n",
            "Requirement already satisfied: packaging<25,>=20 in /usr/local/lib/python3.11/dist-packages (from streamlit) (24.2)\n",
            "Requirement already satisfied: pandas<3,>=1.4.0 in /usr/local/lib/python3.11/dist-packages (from streamlit) (2.2.2)\n",
            "Requirement already satisfied: pillow<12,>=7.1.0 in /usr/local/lib/python3.11/dist-packages (from streamlit) (11.1.0)\n",
            "Requirement already satisfied: protobuf<6,>=3.20 in /usr/local/lib/python3.11/dist-packages (from streamlit) (5.29.4)\n",
            "Requirement already satisfied: pyarrow>=7.0 in /usr/local/lib/python3.11/dist-packages (from streamlit) (18.1.0)\n",
            "Requirement already satisfied: requests<3,>=2.27 in /usr/local/lib/python3.11/dist-packages (from streamlit) (2.32.3)\n",
            "Requirement already satisfied: tenacity<10,>=8.1.0 in /usr/local/lib/python3.11/dist-packages (from streamlit) (9.1.2)\n",
            "Requirement already satisfied: toml<2,>=0.10.1 in /usr/local/lib/python3.11/dist-packages (from streamlit) (0.10.2)\n",
            "Requirement already satisfied: typing-extensions<5,>=4.4.0 in /usr/local/lib/python3.11/dist-packages (from streamlit) (4.13.1)\n",
            "Requirement already satisfied: watchdog<7,>=2.1.5 in /usr/local/lib/python3.11/dist-packages (from streamlit) (6.0.0)\n",
            "Requirement already satisfied: gitpython!=3.1.19,<4,>=3.0.7 in /usr/local/lib/python3.11/dist-packages (from streamlit) (3.1.44)\n",
            "Requirement already satisfied: pydeck<1,>=0.8.0b4 in /usr/local/lib/python3.11/dist-packages (from streamlit) (0.9.1)\n",
            "Requirement already satisfied: tornado<7,>=6.0.3 in /usr/local/lib/python3.11/dist-packages (from streamlit) (6.4.2)\n",
            "Requirement already satisfied: PyYAML>=5.1 in /usr/local/lib/python3.11/dist-packages (from pyngrok) (6.0.2)\n",
            "Requirement already satisfied: jinja2 in /usr/local/lib/python3.11/dist-packages (from altair<6,>=4.0->streamlit) (3.1.6)\n",
            "Requirement already satisfied: jsonschema>=3.0 in /usr/local/lib/python3.11/dist-packages (from altair<6,>=4.0->streamlit) (4.23.0)\n",
            "Requirement already satisfied: narwhals>=1.14.2 in /usr/local/lib/python3.11/dist-packages (from altair<6,>=4.0->streamlit) (1.33.0)\n",
            "Requirement already satisfied: gitdb<5,>=4.0.1 in /usr/local/lib/python3.11/dist-packages (from gitpython!=3.1.19,<4,>=3.0.7->streamlit) (4.0.12)\n",
            "Requirement already satisfied: python-dateutil>=2.8.2 in /usr/local/lib/python3.11/dist-packages (from pandas<3,>=1.4.0->streamlit) (2.8.2)\n",
            "Requirement already satisfied: pytz>=2020.1 in /usr/local/lib/python3.11/dist-packages (from pandas<3,>=1.4.0->streamlit) (2025.2)\n",
            "Requirement already satisfied: tzdata>=2022.7 in /usr/local/lib/python3.11/dist-packages (from pandas<3,>=1.4.0->streamlit) (2025.2)\n",
            "Requirement already satisfied: charset-normalizer<4,>=2 in /usr/local/lib/python3.11/dist-packages (from requests<3,>=2.27->streamlit) (3.4.1)\n",
            "Requirement already satisfied: idna<4,>=2.5 in /usr/local/lib/python3.11/dist-packages (from requests<3,>=2.27->streamlit) (3.10)\n",
            "Requirement already satisfied: urllib3<3,>=1.21.1 in /usr/local/lib/python3.11/dist-packages (from requests<3,>=2.27->streamlit) (2.3.0)\n",
            "Requirement already satisfied: certifi>=2017.4.17 in /usr/local/lib/python3.11/dist-packages (from requests<3,>=2.27->streamlit) (2025.1.31)\n",
            "Requirement already satisfied: smmap<6,>=3.0.1 in /usr/local/lib/python3.11/dist-packages (from gitdb<5,>=4.0.1->gitpython!=3.1.19,<4,>=3.0.7->streamlit) (5.0.2)\n",
            "Requirement already satisfied: MarkupSafe>=2.0 in /usr/local/lib/python3.11/dist-packages (from jinja2->altair<6,>=4.0->streamlit) (3.0.2)\n",
            "Requirement already satisfied: attrs>=22.2.0 in /usr/local/lib/python3.11/dist-packages (from jsonschema>=3.0->altair<6,>=4.0->streamlit) (25.3.0)\n",
            "Requirement already satisfied: jsonschema-specifications>=2023.03.6 in /usr/local/lib/python3.11/dist-packages (from jsonschema>=3.0->altair<6,>=4.0->streamlit) (2024.10.1)\n",
            "Requirement already satisfied: referencing>=0.28.4 in /usr/local/lib/python3.11/dist-packages (from jsonschema>=3.0->altair<6,>=4.0->streamlit) (0.36.2)\n",
            "Requirement already satisfied: rpds-py>=0.7.1 in /usr/local/lib/python3.11/dist-packages (from jsonschema>=3.0->altair<6,>=4.0->streamlit) (0.24.0)\n",
            "Requirement already satisfied: six>=1.5 in /usr/local/lib/python3.11/dist-packages (from python-dateutil>=2.8.2->pandas<3,>=1.4.0->streamlit) (1.17.0)\n",
            "Streamlit app is live at: NgrokTunnel: \"https://09d1-34-16-235-226.ngrok-free.app\" -> \"http://localhost:8501\"\n"
          ]
        },
        {
          "output_type": "execute_result",
          "data": {
            "text/plain": [
              "<Popen: returncode: None args: ['nohup', 'streamlit', 'run', 'app.py', '--se...>"
            ]
          },
          "metadata": {},
          "execution_count": 80
        }
      ]
    }
  ]
}