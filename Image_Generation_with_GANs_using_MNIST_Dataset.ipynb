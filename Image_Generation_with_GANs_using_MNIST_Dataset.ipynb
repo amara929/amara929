{
  "nbformat": 4,
  "nbformat_minor": 0,
  "metadata": {
    "colab": {
      "provenance": [],
      "include_colab_link": true
    },
    "kernelspec": {
      "name": "python3",
      "display_name": "Python 3"
    },
    "language_info": {
      "name": "python"
    }
  },
  "cells": [
    {
      "cell_type": "markdown",
      "metadata": {
        "id": "view-in-github",
        "colab_type": "text"
      },
      "source": [
        "<a href=\"https://colab.research.google.com/github/amara929/amara929/blob/main/Image_Generation_with_GANs_using_MNIST_Dataset.ipynb\" target=\"_parent\"><img src=\"https://colab.research.google.com/assets/colab-badge.svg\" alt=\"Open In Colab\"/></a>"
      ]
    },
    {
      "cell_type": "markdown",
      "source": [
        "Objective\n",
        "Model user navigation as an MDP where each page has rewards (e.g., a reward for reaching \"Checkout\") and find the optimal policy (best next page from any given page) to maximize user conversion.\n",
        "\n"
      ],
      "metadata": {
        "id": "8IpMx7oXn_LJ"
      }
    },
    {
      "cell_type": "markdown",
      "source": [
        "Step-by-Step MDP + Value Iteration"
      ],
      "metadata": {
        "id": "egACyY9soRR-"
      }
    },
    {
      "cell_type": "code",
      "source": [
        "# Step 1: Define the states (web pages) and rewards\n",
        "states = ['Home', 'About', 'Products', 'Cart', 'Contact', 'Checkout']\n",
        "R = {\n",
        "    'Home': 0,\n",
        "    'About': 0,\n",
        "    'Products': 1,\n",
        "    'Cart': 2,\n",
        "    'Contact': -1,\n",
        "    'Checkout': 10  # High reward for conversion\n",
        "}\n",
        "\n",
        "# Define or import the transition matrix from the previous project\n",
        "# Example: If it was stored in a file called 'previous_project_data.py', you would import it like this:\n",
        "# from previous_project_data import transition_matrix\n",
        "\n",
        "# If you don't have the previous data, you'll need to create it here.\n",
        "# Below is a placeholder example:\n",
        "transition_matrix = {\n",
        "    'Home': {'Home': 0.2, 'About': 0.3, 'Products': 0.5, 'Cart': 0, 'Contact': 0, 'Checkout': 0},\n",
        "    # ... (define transitions for other states similarly)\n",
        "}\n",
        "\n",
        "# Now you can print it\n",
        "print(\"Transition Matrix:\\n\", transition_matrix)"
      ],
      "metadata": {
        "colab": {
          "base_uri": "https://localhost:8080/"
        },
        "id": "H6nBXghzohE-",
        "outputId": "2927453d-6570-4b5d-f59f-93775f4dfb1a"
      },
      "execution_count": null,
      "outputs": [
        {
          "output_type": "stream",
          "name": "stdout",
          "text": [
            "Transition Matrix:\n",
            " {'Home': {'Home': 0.2, 'About': 0.3, 'Products': 0.5, 'Cart': 0, 'Contact': 0, 'Checkout': 0}}\n"
          ]
        }
      ]
    },
    {
      "cell_type": "code",
      "source": [
        "# Step 2: Define MDP parameters\n",
        "gamma = 0.9  # Discount factor\n",
        "theta = 0.001  # Threshold for convergence"
      ],
      "metadata": {
        "id": "ndwIjJjqomBW"
      },
      "execution_count": null,
      "outputs": []
    },
    {
      "cell_type": "code",
      "source": [
        "# Step 3: Initialize utilities of all states to 0\n",
        "U = {s: 0 for s in states}"
      ],
      "metadata": {
        "id": "-HnmSuO-opnP"
      },
      "execution_count": null,
      "outputs": []
    },
    {
      "cell_type": "code",
      "source": [
        "!pip install pandas\n",
        "\n",
        "import pandas as pd # Import the pandas library\n",
        "\n",
        "# ... (your existing code) ...\n",
        "\n",
        "# Convert transition_matrix to a Pandas DataFrame\n",
        "transition_matrix = pd.DataFrame(transition_matrix).fillna(0)\n",
        "\n",
        "# Now you can print it\n",
        "print(\"Transition Matrix:\\n\", transition_matrix)"
      ],
      "metadata": {
        "colab": {
          "base_uri": "https://localhost:8080/"
        },
        "id": "Vxudv5kmo5eO",
        "outputId": "20716c18-2f34-4199-e177-08449ebdba0d"
      },
      "execution_count": null,
      "outputs": [
        {
          "output_type": "stream",
          "name": "stdout",
          "text": [
            "Requirement already satisfied: pandas in /usr/local/lib/python3.11/dist-packages (2.2.2)\n",
            "Requirement already satisfied: numpy>=1.23.2 in /usr/local/lib/python3.11/dist-packages (from pandas) (2.0.2)\n",
            "Requirement already satisfied: python-dateutil>=2.8.2 in /usr/local/lib/python3.11/dist-packages (from pandas) (2.8.2)\n",
            "Requirement already satisfied: pytz>=2020.1 in /usr/local/lib/python3.11/dist-packages (from pandas) (2025.2)\n",
            "Requirement already satisfied: tzdata>=2022.7 in /usr/local/lib/python3.11/dist-packages (from pandas) (2025.2)\n",
            "Requirement already satisfied: six>=1.5 in /usr/local/lib/python3.11/dist-packages (from python-dateutil>=2.8.2->pandas) (1.17.0)\n",
            "Transition Matrix:\n",
            "           Home\n",
            "Home       0.2\n",
            "About      0.3\n",
            "Products   0.5\n",
            "Cart       0.0\n",
            "Contact    0.0\n",
            "Checkout   0.0\n"
          ]
        }
      ]
    },
    {
      "cell_type": "code",
      "source": [
        "# Step 4: Value Iteration\n",
        "def value_iteration(matrix, rewards, gamma, theta):\n",
        "    U = {s: 0 for s in matrix.index}\n",
        "    iteration = 0\n",
        "    while True:\n",
        "        delta = 0\n",
        "        new_U = U.copy()\n",
        "        for state in matrix.index:\n",
        "            expected_utilities = []\n",
        "            for next_state in matrix.columns:\n",
        "                prob = matrix.loc[state, next_state]\n",
        "                expected_utilities.append(prob * U[next_state])\n",
        "            new_U[state] = rewards[state] + gamma * sum(expected_utilities)\n",
        "            delta = max(delta, abs(new_U[state] - U[state]))\n",
        "        U = new_U\n",
        "        iteration += 1\n",
        "        if delta < theta:\n",
        "            break\n",
        "    print(f\"Converged after {iteration} iterations.\")\n",
        "    return U\n",
        "\n",
        "U = value_iteration(transition_matrix, R, gamma, theta)\n",
        "print(\"\\nUtilities (Value Function):\")\n",
        "for state, value in U.items():\n",
        "    print(f\"{state}: {value:.2f}\")"
      ],
      "metadata": {
        "colab": {
          "base_uri": "https://localhost:8080/"
        },
        "id": "JKvdNU75ovjW",
        "outputId": "e215dbf7-aa1a-4b3e-d14e-1f04ba769230"
      },
      "execution_count": null,
      "outputs": [
        {
          "output_type": "stream",
          "name": "stdout",
          "text": [
            "Converged after 2 iterations.\n",
            "\n",
            "Utilities (Value Function):\n",
            "Home: 0.00\n",
            "About: 0.00\n",
            "Products: 1.00\n",
            "Cart: 2.00\n",
            "Contact: -1.00\n",
            "Checkout: 10.00\n"
          ]
        }
      ]
    },
    {
      "cell_type": "code",
      "source": [
        "# Step 5: Extract optimal policy from the utilities\n",
        "def extract_policy(matrix, utilities):\n",
        "    policy = {}\n",
        "    for state in matrix.index:\n",
        "        best_action = None\n",
        "        best_value = float('-inf')\n",
        "        for next_state in matrix.columns:\n",
        "            prob = matrix.loc[state, next_state]\n",
        "            value = prob * utilities[next_state]\n",
        "            if value > best_value:\n",
        "                best_value = value\n",
        "                best_action = next_state\n",
        "        policy[state] = best_action\n",
        "    return policy\n",
        "\n",
        "policy = extract_policy(transition_matrix, U)"
      ],
      "metadata": {
        "id": "dHe2skaipIeO"
      },
      "execution_count": null,
      "outputs": []
    }
  ]
}