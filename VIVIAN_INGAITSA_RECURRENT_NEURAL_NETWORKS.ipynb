{
  "nbformat": 4,
  "nbformat_minor": 0,
  "metadata": {
    "colab": {
      "provenance": [],
      "gpuType": "T4",
      "include_colab_link": true
    },
    "kernelspec": {
      "name": "python3",
      "display_name": "Python 3"
    },
    "language_info": {
      "name": "python"
    },
    "accelerator": "GPU"
  },
  "cells": [
    {
      "cell_type": "markdown",
      "metadata": {
        "id": "view-in-github",
        "colab_type": "text"
      },
      "source": [
        "<a href=\"https://colab.research.google.com/github/amara929/amara929/blob/main/VIVIAN_INGAITSA_RECURRENT_NEURAL_NETWORKS.ipynb\" target=\"_parent\"><img src=\"https://colab.research.google.com/assets/colab-badge.svg\" alt=\"Open In Colab\"/></a>"
      ]
    },
    {
      "cell_type": "markdown",
      "source": [
        "# **1. Importing Required Modules**"
      ],
      "metadata": {
        "id": "jZA5YGymO5Rt"
      }
    },
    {
      "cell_type": "code",
      "source": [
        "# Import the necessary modules\n",
        "import tensorflow as tf\n",
        "from tensorflow import keras\n",
        "from tensorflow.keras import layers"
      ],
      "metadata": {
        "id": "zg8Ix9lHC_IP"
      },
      "execution_count": null,
      "outputs": []
    },
    {
      "cell_type": "markdown",
      "source": [
        "\n",
        "\n",
        "*   **TensorFlow**: A machine learning framework\n",
        "\n",
        "*  **Keras:** A high-level API in TensorFlow used for building neural networks.\n",
        "\n",
        "\n",
        "*   **layers:** Module for defining different layers in the neural network.\n",
        "\n",
        "\n",
        "\n"
      ],
      "metadata": {
        "id": "cULV78kZPHYs"
      }
    },
    {
      "cell_type": "markdown",
      "source": [
        "# **2. Building the RNN Model**"
      ],
      "metadata": {
        "id": "HfsljW5XQOl7"
      }
    },
    {
      "cell_type": "code",
      "source": [
        "# Define max_features\n",
        "max_features = 10000"
      ],
      "metadata": {
        "id": "Nj-ZlrH7Qew4"
      },
      "execution_count": null,
      "outputs": []
    },
    {
      "cell_type": "markdown",
      "source": [
        "\n",
        "\n",
        "*   Only the **10,000** most frequent words in the dataset will be used.\n",
        "\n"
      ],
      "metadata": {
        "id": "LsmMIKM_Qgxs"
      }
    },
    {
      "cell_type": "markdown",
      "source": [
        "# **3.Defining the Model**\n"
      ],
      "metadata": {
        "id": "_wiK4RqgQ5JV"
      }
    },
    {
      "cell_type": "code",
      "execution_count": null,
      "metadata": {
        "id": "YLaB3W0hB159"
      },
      "outputs": [],
      "source": [
        "#Build the RNN model\n",
        "\n",
        "model = keras.Sequential([\n",
        "    layers.Embedding(max_features,128),\n",
        "    layers.SimpleRNN(128),\n",
        "    layers.Dense(1,activation='sigmoid')\n",
        "])"
      ]
    },
    {
      "cell_type": "markdown",
      "source": [
        "The model consists of three layers:\n",
        "\n",
        "\n",
        "\n",
        "1. **  Embedding Layer**\n",
        "\n",
        "*   Converts each word index into a dense 128-dimensional vector\n",
        "*   Helps the model understand relationships between words.\n",
        "\n",
        "*   Input: (batch_size, sequence_length), Output: (batch_size, sequence_length, 128)\n",
        "\n",
        "\n",
        "\n",
        "\n",
        "\n",
        "\n",
        "\n",
        "\n",
        "2.   **SimpleRNN Layer**\n",
        "\n",
        "*  A recurrent layer that processes input sequentially\n",
        "*   Captures dependencies in the sequence data.\n",
        "\n",
        "*   Returns a single output of size 128.\n",
        "\n",
        "\n",
        "\n",
        "**3.Dense Layer**\n",
        "\n",
        "* Fully connected layer with** 1 neuron**.\n",
        "*  Sigmoid activation outputs a probability between 0 and 1 (Binary Classification).\n",
        "\n",
        "\n",
        "\n",
        "\n"
      ],
      "metadata": {
        "id": "4vmxgW2JRgCv"
      }
    },
    {
      "cell_type": "markdown",
      "source": [
        "# **4.Compiling the Model**"
      ],
      "metadata": {
        "id": "15I04P8yT35S"
      }
    },
    {
      "cell_type": "code",
      "source": [
        "#Compile the model\n",
        "model.compile(optimizer='adam',loss='binary_crossentropy',metrics=['accuracy'])"
      ],
      "metadata": {
        "id": "LQV4QxwXDcjY"
      },
      "execution_count": null,
      "outputs": []
    },
    {
      "cell_type": "markdown",
      "source": [
        "**Optimizer**: adam (Adaptive Moment Estimation) for efficient training.\n",
        "\n",
        "**Loss Function**: binary_crossentropy since it's a binary classification task.\n",
        "\n",
        "**Metric**: Accuracy to measure performance"
      ],
      "metadata": {
        "id": "2SruPGeTV_Hl"
      }
    },
    {
      "cell_type": "markdown",
      "source": [
        "**Padding Sequences**"
      ],
      "metadata": {
        "id": "Memkvi5QUFlF"
      }
    },
    {
      "cell_type": "code",
      "source": [
        "# Pad sequences to the same length\n",
        "x_train = keras.preprocessing.sequence.pad_sequences(x_train, maxlen=200)\n",
        "x_test = keras.preprocessing.sequence.pad_sequences(x_test, maxlen=200)"
      ],
      "metadata": {
        "id": "FepCp4TCEXBo"
      },
      "execution_count": null,
      "outputs": []
    },
    {
      "cell_type": "markdown",
      "source": [
        "Ensures all sequences are **exactly 200 words long.**\n",
        "\n",
        "If a review is shorter, it gets **padded** with zeros.\n",
        "\n",
        "If longer, it gets **truncated**"
      ],
      "metadata": {
        "id": "wpTtEiEyVYHL"
      }
    },
    {
      "cell_type": "markdown",
      "source": [
        "# **Loading & Preprocessing the IMDB Dataset**"
      ],
      "metadata": {
        "id": "pliWztU6Vo4t"
      }
    },
    {
      "cell_type": "code",
      "source": [
        "# Load and preprocess the IMDB dataset\n",
        "(x_train, y_train), (x_test, y_test) = keras.datasets.imdb.load_data(num_words=max_features)"
      ],
      "metadata": {
        "colab": {
          "base_uri": "https://localhost:8080/"
        },
        "id": "iB8ApBmBEfpr",
        "outputId": "004075d9-2728-4fce-cf81-8d6444a96724"
      },
      "execution_count": null,
      "outputs": [
        {
          "output_type": "stream",
          "name": "stdout",
          "text": [
            "Downloading data from https://storage.googleapis.com/tensorflow/tf-keras-datasets/imdb.npz\n",
            "\u001b[1m17464789/17464789\u001b[0m \u001b[32m━━━━━━━━━━━━━━━━━━━━\u001b[0m\u001b[37m\u001b[0m \u001b[1m2s\u001b[0m 0us/step\n"
          ]
        }
      ]
    },
    {
      "cell_type": "markdown",
      "source": [
        "Loads the **IMDB dataset**.\n",
        "\n",
        "**x_train, x_test**: Movie reviews (as sequences of integers representing words).\n",
        "\n",
        "**y_train, y_test**: Labels (0 = negative, 1 = positive).\n",
        "\n"
      ],
      "metadata": {
        "id": "qWFoGhpGVxvu"
      }
    },
    {
      "cell_type": "markdown",
      "source": [
        "# **5.Training the Model**"
      ],
      "metadata": {
        "id": "D47vGDGtUQRU"
      }
    },
    {
      "cell_type": "code",
      "source": [
        "# Train the model\n",
        "batch_size = 32\n",
        "epochs = 10\n",
        "model.fit(x_train,y_train,batch_size=batch_size,epochs=epochs,validation_data=(x_test,y_test))"
      ],
      "metadata": {
        "colab": {
          "base_uri": "https://localhost:8080/"
        },
        "id": "6bXiDrbbDr7t",
        "outputId": "3a01cd09-2301-485e-c469-02c3a6e7ffdf"
      },
      "execution_count": null,
      "outputs": [
        {
          "output_type": "stream",
          "name": "stdout",
          "text": [
            "Epoch 1/10\n",
            "\u001b[1m782/782\u001b[0m \u001b[32m━━━━━━━━━━━━━━━━━━━━\u001b[0m\u001b[37m\u001b[0m \u001b[1m22s\u001b[0m 23ms/step - accuracy: 0.5988 - loss: 0.6372 - val_accuracy: 0.6954 - val_loss: 0.5682\n",
            "Epoch 2/10\n",
            "\u001b[1m782/782\u001b[0m \u001b[32m━━━━━━━━━━━━━━━━━━━━\u001b[0m\u001b[37m\u001b[0m \u001b[1m17s\u001b[0m 21ms/step - accuracy: 0.7225 - loss: 0.5427 - val_accuracy: 0.7274 - val_loss: 0.5778\n",
            "Epoch 3/10\n",
            "\u001b[1m782/782\u001b[0m \u001b[32m━━━━━━━━━━━━━━━━━━━━\u001b[0m\u001b[37m\u001b[0m \u001b[1m21s\u001b[0m 21ms/step - accuracy: 0.7762 - loss: 0.4694 - val_accuracy: 0.6842 - val_loss: 0.5947\n",
            "Epoch 4/10\n",
            "\u001b[1m782/782\u001b[0m \u001b[32m━━━━━━━━━━━━━━━━━━━━\u001b[0m\u001b[37m\u001b[0m \u001b[1m18s\u001b[0m 22ms/step - accuracy: 0.7888 - loss: 0.4402 - val_accuracy: 0.6326 - val_loss: 0.6451\n",
            "Epoch 5/10\n",
            "\u001b[1m782/782\u001b[0m \u001b[32m━━━━━━━━━━━━━━━━━━━━\u001b[0m\u001b[37m\u001b[0m \u001b[1m17s\u001b[0m 22ms/step - accuracy: 0.7340 - loss: 0.5162 - val_accuracy: 0.6285 - val_loss: 0.6595\n",
            "Epoch 6/10\n",
            "\u001b[1m782/782\u001b[0m \u001b[32m━━━━━━━━━━━━━━━━━━━━\u001b[0m\u001b[37m\u001b[0m \u001b[1m17s\u001b[0m 21ms/step - accuracy: 0.7343 - loss: 0.5114 - val_accuracy: 0.6390 - val_loss: 0.6761\n",
            "Epoch 7/10\n",
            "\u001b[1m782/782\u001b[0m \u001b[32m━━━━━━━━━━━━━━━━━━━━\u001b[0m\u001b[37m\u001b[0m \u001b[1m18s\u001b[0m 22ms/step - accuracy: 0.7597 - loss: 0.4730 - val_accuracy: 0.6464 - val_loss: 0.6804\n",
            "Epoch 8/10\n",
            "\u001b[1m782/782\u001b[0m \u001b[32m━━━━━━━━━━━━━━━━━━━━\u001b[0m\u001b[37m\u001b[0m \u001b[1m21s\u001b[0m 23ms/step - accuracy: 0.7887 - loss: 0.4374 - val_accuracy: 0.6917 - val_loss: 0.6523\n",
            "Epoch 9/10\n",
            "\u001b[1m782/782\u001b[0m \u001b[32m━━━━━━━━━━━━━━━━━━━━\u001b[0m\u001b[37m\u001b[0m \u001b[1m20s\u001b[0m 22ms/step - accuracy: 0.8360 - loss: 0.3665 - val_accuracy: 0.6751 - val_loss: 0.7024\n",
            "Epoch 10/10\n",
            "\u001b[1m782/782\u001b[0m \u001b[32m━━━━━━━━━━━━━━━━━━━━\u001b[0m\u001b[37m\u001b[0m \u001b[1m20s\u001b[0m 23ms/step - accuracy: 0.8512 - loss: 0.3372 - val_accuracy: 0.6924 - val_loss: 0.6628\n"
          ]
        },
        {
          "output_type": "execute_result",
          "data": {
            "text/plain": [
              "<keras.src.callbacks.history.History at 0x7f99eae7c790>"
            ]
          },
          "metadata": {},
          "execution_count": 10
        }
      ]
    },
    {
      "cell_type": "markdown",
      "source": [
        "**Batch Size:** 32 reviews are processed at a time.\n",
        "\n",
        "**Epochs:** The model goes through the dataset 10 times.\n",
        "\n",
        "**Validation Data**: Evaluates performance on x_test and y_test.\n",
        "\n"
      ],
      "metadata": {
        "id": "0lxOYHznVLRi"
      }
    },
    {
      "cell_type": "markdown",
      "source": [
        "# **6.Evaluating the Model**\n"
      ],
      "metadata": {
        "id": "gH_JHRdtUgZI"
      }
    },
    {
      "cell_type": "code",
      "source": [
        "# Evaluate the model\n",
        "loss, accuracy = model.evaluate(x_test,y_test)\n",
        "print(f'Test Loss: {loss:.4f}')\n",
        "print(f'Test Accuracy: {accuracy:.4f}')"
      ],
      "metadata": {
        "colab": {
          "base_uri": "https://localhost:8080/"
        },
        "id": "lyC_S8EwGb-2",
        "outputId": "d403c40a-6c8b-4779-c391-28ee0adcb4c7"
      },
      "execution_count": null,
      "outputs": [
        {
          "output_type": "stream",
          "name": "stdout",
          "text": [
            "\u001b[1m782/782\u001b[0m \u001b[32m━━━━━━━━━━━━━━━━━━━━\u001b[0m\u001b[37m\u001b[0m \u001b[1m4s\u001b[0m 6ms/step - accuracy: 0.6898 - loss: 0.6771\n",
            "Test Loss: 0.6628\n",
            "Test Accuracy: 0.6924\n"
          ]
        }
      ]
    },
    {
      "cell_type": "markdown",
      "source": [
        "\n",
        "\n",
        "* Computes final loss and accuracy on the test dataset.\n",
        "\n",
        "\n",
        "\n"
      ],
      "metadata": {
        "id": "txiU-fMIUsD1"
      }
    },
    {
      "cell_type": "markdown",
      "source": [
        "# **CONCLUSION**"
      ],
      "metadata": {
        "id": "Nw_HyzDdU_N6"
      }
    },
    {
      "cell_type": "markdown",
      "source": [
        "**Loss**: Indicates how well the model is performing (lower is better).\n",
        "\n",
        "**Accuracy**: Shows the percentage of correctly classified reviews (higher is better)."
      ],
      "metadata": {
        "id": "4O8KOPm8U4sD"
      }
    }
  ]
}