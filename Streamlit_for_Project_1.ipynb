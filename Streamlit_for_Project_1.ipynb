{
  "nbformat": 4,
  "nbformat_minor": 0,
  "metadata": {
    "colab": {
      "provenance": [],
      "authorship_tag": "ABX9TyO4652fT9CgovdFjd0eEB5z",
      "include_colab_link": true
    },
    "kernelspec": {
      "name": "python3",
      "display_name": "Python 3"
    },
    "language_info": {
      "name": "python"
    }
  },
  "cells": [
    {
      "cell_type": "markdown",
      "metadata": {
        "id": "view-in-github",
        "colab_type": "text"
      },
      "source": [
        "<a href=\"https://colab.research.google.com/github/amara929/amara929/blob/main/Streamlit_for_Project_1.ipynb\" target=\"_parent\"><img src=\"https://colab.research.google.com/assets/colab-badge.svg\" alt=\"Open In Colab\"/></a>"
      ]
    },
    {
      "cell_type": "code",
      "execution_count": null,
      "metadata": {
        "id": "9hECBDIUCN5S"
      },
      "outputs": [],
      "source": [
        "!pip install -q streamlit pyngrok"
      ]
    },
    {
      "cell_type": "code",
      "source": [
        "%%writefile app.py\n",
        "import streamlit as st\n",
        "import pandas as pd\n",
        "import numpy as np\n",
        "import seaborn as sns\n",
        "import matplotlib.pyplot as plt\n",
        "from sklearn.linear_model import LinearRegression\n",
        "from sklearn.model_selection import train_test_split\n",
        "from sklearn.preprocessing import LabelEncoder\n",
        "from sklearn.metrics import mean_absolute_error, mean_squared_error, r2_score\n",
        "\n",
        "st.set_page_config(page_title=\"Industry Code Regression\", layout=\"centered\")\n",
        "\n",
        "st.title(\"Linear Regression on Annual Enterprise Survey\")\n",
        "\n",
        "uploaded_file = st.file_uploader(\"/content/annual-enterprise-survey-2023-financial-year-provisional (1).csv\", type=[\"csv\"])\n",
        "if uploaded_file:\n",
        "    df = pd.read_csv(\"/content/annual-enterprise-survey-2023-financial-year-provisional (1).csv\")\n",
        "\n",
        "    st.subheader(\"Raw Data\")\n",
        "    st.write(df.head())\n",
        "\n",
        "    if 'Industry_aggregation_NZSIOC' in df.columns and 'Industry_code_NZSIOC' in df.columns:\n",
        "        st.success(\"Columns found. Proceeding with visualization and modeling.\")\n",
        "\n",
        "        fig1, ax1 = plt.subplots()\n",
        "        sns.histplot(df['Industry_aggregation_NZSIOC'], kde=True, ax=ax1)\n",
        "        st.pyplot(fig1)\n",
        "\n",
        "        fig2, ax2 = plt.subplots()\n",
        "        sns.histplot(df['Industry_code_NZSIOC'], kde=True, ax=ax2)\n",
        "        st.pyplot(fig2)\n",
        "\n",
        "        encoder_x = LabelEncoder()\n",
        "        encoder_y = LabelEncoder()\n",
        "\n",
        "        X_raw = df[['Industry_aggregation_NZSIOC']].values\n",
        "        Y_raw = df[['Industry_code_NZSIOC']].values\n",
        "\n",
        "        X_encoded = encoder_x.fit_transform(X_raw.ravel()).reshape(-1, 1)\n",
        "        Y_encoded = encoder_y.fit_transform(Y_raw.ravel()).reshape(-1, 1)\n",
        "\n",
        "        X_train, X_test, Y_train, Y_test = train_test_split(X_encoded, Y_encoded, test_size=0.2, random_state=42)\n",
        "\n",
        "        model = LinearRegression()\n",
        "        model.fit(X_train, Y_train)\n",
        "        y_pred = model.predict(X_test)\n",
        "\n",
        "        st.subheader(\"Model Evaluation\")\n",
        "        st.write(f\"**MAE:** {mean_absolute_error(Y_test, y_pred):.4f}\")\n",
        "        st.write(f\"**MSE:** {mean_squared_error(Y_test, y_pred):.4f}\")\n",
        "        st.write(f\"**R² Score:** {r2_score(Y_test, y_pred):.4f}\")\n",
        "\n",
        "        st.subheader(\"Regression Visualization\")\n",
        "        fig3, ax3 = plt.subplots()\n",
        "        ax3.scatter(X_test, Y_test, color='blue', label='Actual')\n",
        "        ax3.plot(X_test, y_pred, color='red', label='Prediction')\n",
        "        ax3.set_xlabel('Industry Aggregation (Encoded)')\n",
        "        ax3.set_ylabel('Industry Code (Encoded)')\n",
        "        ax3.set_title('Linear Regression Fit')\n",
        "        ax3.legend()\n",
        "        st.pyplot(fig3)\n",
        "\n",
        "        st.subheader(\"Make a Prediction\")\n",
        "        user_input = st.number_input(\"Enter Industry Aggregation (Encoded)\", min_value=0, max_value=int(X_encoded.max()))\n",
        "        predicted = model.predict(np.array([[user_input]]))[0][0]\n",
        "        st.write(f\"Predicted Industry Code (Encoded): {predicted:.2f}\")\n",
        "    else:\n",
        "        st.warning(\"Required columns not found in the uploaded CSV.\")\n",
        "        st.write(\"Available columns:\", df.columns.tolist())\n",
        "else:\n",
        "    st.info(\"/content/annual-enterprise-survey-2023-financial-year-provisional (1).csv\")"
      ],
      "metadata": {
        "colab": {
          "base_uri": "https://localhost:8080/"
        },
        "id": "jreebH2RCjCO",
        "outputId": "05b99b0d-5107-48d9-dd70-2fa325b2d2fa"
      },
      "execution_count": null,
      "outputs": [
        {
          "output_type": "stream",
          "name": "stdout",
          "text": [
            "Overwriting app.py\n"
          ]
        }
      ]
    },
    {
      "cell_type": "code",
      "source": [
        "from pyngrok import ngrok\n",
        "\n",
        "ngrok.set_auth_token(\"2vTtEvvIaMrIm6QLW7nBhUarLkv_7tgLY7nDjay4jxE6idJRS\")\n",
        "\n",
        "!streamlit run app.py &>/content/log.txt &\n",
        "# Pass the port as part of the addr argument\n",
        "public_url = ngrok.connect(addr=\"8501\")\n",
        "print(f\"Streamlit app is live at: {public_url}\")"
      ],
      "metadata": {
        "id": "Q0Ol3j04EYPw",
        "colab": {
          "base_uri": "https://localhost:8080/"
        },
        "outputId": "496db0d8-bf1c-43e7-f0f2-50cfdb659ade"
      },
      "execution_count": null,
      "outputs": [
        {
          "output_type": "stream",
          "name": "stdout",
          "text": [
            "Streamlit app is live at: NgrokTunnel: \"https://5ca6-34-106-149-13.ngrok-free.app\" -> \"http://localhost:8501\"\n"
          ]
        }
      ]
    }
  ]
}