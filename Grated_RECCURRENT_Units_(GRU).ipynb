{
  "cells": [
    {
      "cell_type": "markdown",
      "metadata": {
        "id": "view-in-github",
        "colab_type": "text"
      },
      "source": [
        "<a href=\"https://colab.research.google.com/github/amara929/amara929/blob/main/Grated_RECCURRENT_Units_(GRU).ipynb\" target=\"_parent\"><img src=\"https://colab.research.google.com/assets/colab-badge.svg\" alt=\"Open In Colab\"/></a>"
      ]
    },
    {
      "cell_type": "markdown",
      "metadata": {
        "id": "Awdyee7Z0gPj"
      },
      "source": [
        "# **IMPORTING THE NECESSARY LIBRARIES**"
      ]
    },
    {
      "cell_type": "code",
      "execution_count": null,
      "metadata": {
        "id": "Im55Uyxc0pLx"
      },
      "outputs": [],
      "source": [
        "import numpy as np\n",
        "from tensorflow import keras\n",
        "from tensorflow.keras import layers"
      ]
    },
    {
      "cell_type": "markdown",
      "metadata": {
        "id": "BHh7FqR4FA4S"
      },
      "source": [
        "# **LOAD THE DATASET**"
      ]
    },
    {
      "cell_type": "code",
      "execution_count": null,
      "metadata": {
        "id": "9dROgh5y1Xg4",
        "colab": {
          "base_uri": "https://localhost:8080/"
        },
        "outputId": "f7dec138-06b9-46fc-8733-a88a297d4c4f"
      },
      "outputs": [
        {
          "output_type": "stream",
          "name": "stdout",
          "text": [
            "Downloading data from https://storage.googleapis.com/tensorflow/tf-keras-datasets/imdb.npz\n",
            "\u001b[1m17464789/17464789\u001b[0m \u001b[32m━━━━━━━━━━━━━━━━━━━━\u001b[0m\u001b[37m\u001b[0m \u001b[1m0s\u001b[0m 0us/step\n"
          ]
        }
      ],
      "source": [
        "# Load the IMDB dataset\n",
        "max_features = 10000  # Number of words to consider as features\n",
        "max_len = 200  # Trim reviews after this number of words\n",
        "\n",
        "(x_train, y_train), (x_test, y_test) = keras.datasets.imdb.load_data(num_words=max_features)"
      ]
    },
    {
      "cell_type": "markdown",
      "metadata": {
        "id": "LFhXKUDHEH4h"
      },
      "source": [
        " loads the IMDB dataset using keras.datasets.imdb.load_data(num_words=max_features), but common issues include module import errors, shape mismatches, and memory constraints. The dataset consists of tokenized movie reviews, so sequences must be padded using pad_sequences(x_train, maxlen=max_len) to ensure uniform input size for training. If you face memory errors, reducing num_words (e.g., from 10000 to 5000) can help. The corrected approach ensures proper data preprocessing for feeding into an NLP model. 🚀"
      ]
    },
    {
      "cell_type": "code",
      "execution_count": null,
      "metadata": {
        "id": "Q4DXFW2j6x5a"
      },
      "outputs": [],
      "source": [
        "# Pad Sequence to a fixed length\n",
        "x_train = keras.preprocessing.sequence.pad_sequences(x_train, maxlen=max_len)\n",
        "x_test = keras.preprocessing.sequence.pad_sequences(x_test, maxlen=max_len)"
      ]
    },
    {
      "cell_type": "markdown",
      "metadata": {
        "id": "D49IVkQuEdzm"
      },
      "source": [
        " Pads IMDB dataset sequences to a fixed length before training, ensuring all reviews have uniform input size. However, if you get an AttributeError, import pad_sequences from tensorflow.keras.preprocessing.sequence. If you face a shape mismatch error, check that x_train and y_train have the same number of samples, and convert y_train to a NumPy array (np.array(y_train)) to avoid type issues. This preprocessing step ensures compatibility with deep learning models."
      ]
    },
    {
      "cell_type": "markdown",
      "metadata": {
        "id": "O_MyLCQgFUSS"
      },
      "source": [
        "# **BUILD THE MODEL**"
      ]
    },
    {
      "cell_type": "code",
      "execution_count": null,
      "metadata": {
        "id": "x_B-gjlR2ak0"
      },
      "outputs": [],
      "source": [
        "# Build the GRU model\n",
        "model = keras.Sequential([\n",
        "    layers.Embedding(max_features, 128),\n",
        "    layers.GRU(128, dropout=0.2, recurrent_dropout=0.2),\n",
        "    layers.Dense(1, activation='sigmoid')\n",
        "])"
      ]
    },
    {
      "cell_type": "markdown",
      "metadata": {
        "id": "l7yvOr-AE4sG"
      },
      "source": [
        "Your GRU model is correctly structured for binary classification, but ensure you import layers (from tensorflow.keras import layers) to avoid a NameError. If you face shape mismatches, confirm that max_len in pad_sequences matches the model’s expected input. Also, recurrent_dropout may not work efficiently on GPUs, so consider removing it or using CuDNNGRU for better performance. Lastly, compile the model using binary_crossentropy loss and adam optimizer for optimal training."
      ]
    },
    {
      "cell_type": "code",
      "execution_count": null,
      "metadata": {
        "id": "W_E4z-YZ3PuV"
      },
      "outputs": [],
      "source": [
        "# Compile the model\n",
        "model.compile(loss='binary_crossentropy', optimizer='adam', metrics=['accuracy'])"
      ]
    },
    {
      "cell_type": "markdown",
      "metadata": {
        "id": "YIJHlneEFr85"
      },
      "source": [
        "# TRAIN THE MODEL"
      ]
    },
    {
      "cell_type": "code",
      "execution_count": null,
      "metadata": {
        "colab": {
          "base_uri": "https://localhost:8080/"
        },
        "id": "EQI0-s8_3ZGr",
        "outputId": "9e1a14fa-cf35-43a1-82b9-7b1192ef61d3"
      },
      "outputs": [
        {
          "output_type": "stream",
          "name": "stdout",
          "text": [
            "Epoch 1/5\n",
            "\u001b[1m782/782\u001b[0m \u001b[32m━━━━━━━━━━━━━━━━━━━━\u001b[0m\u001b[37m\u001b[0m \u001b[1m479s\u001b[0m 607ms/step - accuracy: 0.6947 - loss: 0.5626 - val_accuracy: 0.8414 - val_loss: 0.3617\n",
            "Epoch 2/5\n",
            "\u001b[1m782/782\u001b[0m \u001b[32m━━━━━━━━━━━━━━━━━━━━\u001b[0m\u001b[37m\u001b[0m \u001b[1m465s\u001b[0m 561ms/step - accuracy: 0.8714 - loss: 0.3113 - val_accuracy: 0.8855 - val_loss: 0.2782\n",
            "Epoch 3/5\n",
            "\u001b[1m782/782\u001b[0m \u001b[32m━━━━━━━━━━━━━━━━━━━━\u001b[0m\u001b[37m\u001b[0m \u001b[1m476s\u001b[0m 605ms/step - accuracy: 0.9373 - loss: 0.1710 - val_accuracy: 0.8808 - val_loss: 0.2963\n",
            "Epoch 4/5\n",
            "\u001b[1m782/782\u001b[0m \u001b[32m━━━━━━━━━━━━━━━━━━━━\u001b[0m\u001b[37m\u001b[0m \u001b[1m503s\u001b[0m 606ms/step - accuracy: 0.9659 - loss: 0.1002 - val_accuracy: 0.8701 - val_loss: 0.3798\n",
            "Epoch 5/5\n",
            "\u001b[1m782/782\u001b[0m \u001b[32m━━━━━━━━━━━━━━━━━━━━\u001b[0m\u001b[37m\u001b[0m \u001b[1m473s\u001b[0m 604ms/step - accuracy: 0.9803 - loss: 0.0611 - val_accuracy: 0.8615 - val_loss: 0.4509\n"
          ]
        },
        {
          "output_type": "execute_result",
          "data": {
            "text/plain": [
              "<keras.src.callbacks.history.History at 0x7813c41d5ad0>"
            ]
          },
          "metadata": {},
          "execution_count": 6
        }
      ],
      "source": [
        "# Train the model\n",
        "batch_size = 32\n",
        "epochs = 5\n",
        "\n",
        "model.fit(x_train, y_train,\n",
        "          batch_size=batch_size,\n",
        "          epochs=epochs,\n",
        "          validation_data=(x_test, y_test))"
      ]
    },
    {
      "cell_type": "markdown",
      "metadata": {
        "id": "TqVlPV9VG5Gv"
      },
      "source": [
        "Your training code is mostly correct, but ensure that the input data (x_train and x_test) is properly padded to the correct shape and that y_train and y_test are NumPy arrays. If you encounter a shape mismatch or data type error, check that x_train and x_test have the same number of samples and match the expected input dimensions of the model. Also, ensure that validation_data is correctly formatted as (x_test, y_test). Once the data is correctly preprocessed and the model is compiled, the training will proceed without issues."
      ]
    },
    {
      "cell_type": "code",
      "execution_count": null,
      "metadata": {
        "colab": {
          "base_uri": "https://localhost:8080/"
        },
        "id": "D3B82lvo32jN",
        "outputId": "45f52bd3-bca6-4013-9600-b11f1aec75a2"
      },
      "outputs": [
        {
          "name": "stdout",
          "output_type": "stream",
          "text": [
            "\u001b[1m782/782\u001b[0m \u001b[32m━━━━━━━━━━━━━━━━━━━━\u001b[0m\u001b[37m\u001b[0m \u001b[1m47s\u001b[0m 60ms/step - accuracy: 0.8622 - loss: 0.4588\n",
            "Test loss: 0.4430\n",
            "Test accuracy: 0.8630\n"
          ]
        }
      ],
      "source": [
        "# Evaluate the model\n",
        "loss, accuracy = model.evaluate(x_test, y_test, batch_size=batch_size)\n",
        "print(f'Test loss: {loss:.4f}')\n",
        "print(f'Test accuracy: {accuracy:.4f}')"
      ]
    }
  ],
  "metadata": {
    "colab": {
      "provenance": [],
      "include_colab_link": true
    },
    "kernelspec": {
      "display_name": "Python 3",
      "name": "python3"
    },
    "language_info": {
      "name": "python"
    }
  },
  "nbformat": 4,
  "nbformat_minor": 0
}